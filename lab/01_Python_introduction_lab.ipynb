{
 "cells": [
  {
   "cell_type": "markdown",
   "metadata": {},
   "source": [
    "# Laboratory 01\n",
    "\n",
    "You are expected to complete all basic exercises.\n",
    "Advanced exercises are prefixed with \\*.\n",
    "You are free to use any material (lecture, Stackoverflow etc.) except full solutions.\n",
    "\n",
    "\n",
    "## 1. `range()` practice\n",
    "\n",
    "### 1.1 Print the numbers between 70 and 79 inclusive."
   ]
  },
  {
   "cell_type": "code",
   "execution_count": 1,
   "metadata": {
    "collapsed": false
   },
   "outputs": [
    {
     "name": "stdout",
     "output_type": "stream",
     "text": [
      "70\n",
      "71\n",
      "72\n",
      "73\n",
      "74\n",
      "75\n",
      "76\n",
      "77\n",
      "78\n",
      "79\n"
     ]
    }
   ],
   "source": [
    "for i in range(70, 80):\n",
    "    print(i)"
   ]
  },
  {
   "cell_type": "markdown",
   "metadata": {},
   "source": [
    "### 1.2 Print the first 10 square numbers starting from 1."
   ]
  },
  {
   "cell_type": "code",
   "execution_count": 2,
   "metadata": {
    "collapsed": false
   },
   "outputs": [
    {
     "name": "stdout",
     "output_type": "stream",
     "text": [
      "1\n",
      "4\n",
      "9\n",
      "16\n",
      "25\n",
      "36\n",
      "49\n",
      "64\n",
      "81\n",
      "100\n"
     ]
    }
   ],
   "source": [
    "for i in range(1, 11):\n",
    "    print(i*i)"
   ]
  },
  {
   "cell_type": "markdown",
   "metadata": {},
   "source": [
    "### \\*1.3 Print the numbers from 19 to 10 (backwards)."
   ]
  },
  {
   "cell_type": "code",
   "execution_count": 3,
   "metadata": {
    "collapsed": false
   },
   "outputs": [
    {
     "name": "stdout",
     "output_type": "stream",
     "text": [
      "19\n",
      "18\n",
      "17\n",
      "16\n",
      "15\n",
      "14\n",
      "13\n",
      "12\n",
      "11\n",
      "10\n"
     ]
    }
   ],
   "source": [
    "for i in range (19, 9, -1):\n",
    "    print(i)"
   ]
  },
  {
   "cell_type": "markdown",
   "metadata": {},
   "source": [
    "## 2. Reading user input\n",
    "\n",
    "User input can be read with the `input()` function. It always returns a string which can be converted to integer using the `int()` function."
   ]
  },
  {
   "cell_type": "code",
   "execution_count": 4,
   "metadata": {
    "collapsed": false
   },
   "outputs": [
    {
     "name": "stdout",
     "output_type": "stream",
     "text": [
      "1\n"
     ]
    },
    {
     "data": {
      "text/plain": [
       "1"
      ]
     },
     "execution_count": 4,
     "metadata": {},
     "output_type": "execute_result"
    }
   ],
   "source": [
    "n = input()\n",
    "int(n)"
   ]
  },
  {
   "cell_type": "markdown",
   "metadata": {},
   "source": [
    "### 2.1 Read a number N and print the numbers from 1 to N."
   ]
  },
  {
   "cell_type": "code",
   "execution_count": 5,
   "metadata": {
    "collapsed": false
   },
   "outputs": [
    {
     "name": "stdout",
     "output_type": "stream",
     "text": [
      "15\n",
      "***\n",
      "1\n",
      "2\n",
      "3\n",
      "4\n",
      "5\n",
      "6\n",
      "7\n",
      "8\n",
      "9\n",
      "10\n",
      "11\n",
      "12\n",
      "13\n",
      "14\n",
      "15\n"
     ]
    }
   ],
   "source": [
    "n = int(input())\n",
    "print('***')\n",
    "for i in range(1, n+1):\n",
    "    print(i)"
   ]
  },
  {
   "cell_type": "markdown",
   "metadata": {},
   "source": [
    "### 2.2 Read a number N and print the first N square numbers starting from 1."
   ]
  },
  {
   "cell_type": "code",
   "execution_count": 6,
   "metadata": {
    "collapsed": false
   },
   "outputs": [
    {
     "name": "stdout",
     "output_type": "stream",
     "text": [
      "5\n",
      "***\n",
      "1\n",
      "4\n",
      "9\n",
      "16\n",
      "25\n"
     ]
    }
   ],
   "source": [
    "n = int(input())\n",
    "print('***')\n",
    "for i in range(1, n+1):\n",
    "    print(i*i)"
   ]
  },
  {
   "cell_type": "markdown",
   "metadata": {},
   "source": [
    "### 2.3 Read numbers until 0 and print their sum."
   ]
  },
  {
   "cell_type": "code",
   "execution_count": 7,
   "metadata": {
    "collapsed": false
   },
   "outputs": [
    {
     "name": "stdout",
     "output_type": "stream",
     "text": [
      "1\n",
      "2\n",
      "5\n",
      "0\n",
      "Sum =  8\n"
     ]
    }
   ],
   "source": [
    "total_sum = 0\n",
    "while True:\n",
    "    i = int(input())\n",
    "    if i == 0:\n",
    "        break\n",
    "    total_sum += i\n",
    "print('Sum = ', total_sum)"
   ]
  },
  {
   "cell_type": "markdown",
   "metadata": {},
   "source": [
    "### \\*2.4 Read numbers until 0 and print their mean and standard deviation without using a list."
   ]
  },
  {
   "cell_type": "code",
   "execution_count": 8,
   "metadata": {
    "collapsed": false
   },
   "outputs": [
    {
     "name": "stdout",
     "output_type": "stream",
     "text": [
      "2\n",
      "4\n",
      "0\n",
      "Mean =  3.0\n",
      "Standard deviation =  2.0\n"
     ]
    }
   ],
   "source": [
    "# TODO: standard deviation\n",
    "total_sum = 0\n",
    "count = 0\n",
    "square_sum = 0\n",
    "\n",
    "while True:\n",
    "    i = int(input())\n",
    "    if i == 0:\n",
    "        break\n",
    "    total_sum += i\n",
    "    square_sum += i*i\n",
    "    count += 1\n",
    "\n",
    "mean = total_sum / count\n",
    "print('Mean = ', mean)\n",
    "print('Standard deviation = ', square_sum-count*mean*mean)"
   ]
  },
  {
   "cell_type": "markdown",
   "metadata": {
    "collapsed": true
   },
   "source": [
    "## 3. Lists\n",
    "\n",
    "### 3.1 Print the odd numbers from this list."
   ]
  },
  {
   "cell_type": "code",
   "execution_count": 9,
   "metadata": {
    "collapsed": true
   },
   "outputs": [],
   "source": [
    "l = [2, 3, -2, -7, 0, 2, 3]"
   ]
  },
  {
   "cell_type": "markdown",
   "metadata": {},
   "source": [
    "### 3.2 Read numbers until 0 and collect them in a list. Print the elements backwards (zero not included).\n",
    "\n",
    "For example:\n",
    "\n",
    "```\n",
    "input: 3 4 2 12 3 0\n",
    "output: 3 12 3 4 3 ```"
   ]
  },
  {
   "cell_type": "code",
   "execution_count": 10,
   "metadata": {
    "collapsed": false
   },
   "outputs": [
    {
     "name": "stdout",
     "output_type": "stream",
     "text": [
      "2\n",
      "5\n",
      "4\n",
      "0\n",
      "***\n",
      "4\n",
      "5\n",
      "2\n"
     ]
    }
   ],
   "source": [
    "numbers = []\n",
    "a = int(input())\n",
    "while a != 0:\n",
    "    numbers.append(a)\n",
    "    a = int(input())\n",
    "    \n",
    "print(\"***\")\n",
    "\n",
    "for i in range(len(numbers)-1, -1, -1):\n",
    "    print(numbers[i])"
   ]
  },
  {
   "cell_type": "markdown",
   "metadata": {},
   "source": [
    "### 3.3 Read a number N and then read exactly N numbers. Print them backwards.\n",
    "\n",
    "For example:\n",
    "\n",
    "```\n",
    "input: 4 -1 0 2 12\n",
    "output: 12 2 0 -1\n",
    "```"
   ]
  },
  {
   "cell_type": "code",
   "execution_count": 11,
   "metadata": {
    "collapsed": false
   },
   "outputs": [
    {
     "name": "stdout",
     "output_type": "stream",
     "text": [
      "2\n",
      "0\n",
      "5\n",
      "***\n",
      "5\n",
      "0\n"
     ]
    }
   ],
   "source": [
    "count = int(input())\n",
    "numbers = []\n",
    "for i in range(count):\n",
    "    a = int(input())\n",
    "    numbers.append(a)\n",
    "\n",
    "print('***')\n",
    "\n",
    "for i in range(len(numbers)-1, -1, -1):\n",
    "    print(numbers[i])"
   ]
  },
  {
   "cell_type": "markdown",
   "metadata": {},
   "source": [
    "## 4. Functions\n",
    "\n",
    "The following exercises contain function skeletons. Finish these functions.\n",
    "If you work correctly, the assert statements should not fail.\n",
    "\n",
    "### 4.1 Write a function that takes an integer parameter (N) and returns a list of the first N prime numbers starting from 2."
   ]
  },
  {
   "cell_type": "code",
   "execution_count": 14,
   "metadata": {
    "collapsed": false
   },
   "outputs": [],
   "source": [
    "def is_prime2(num):\n",
    "    if num < 0: num = -num\n",
    "    if num % 2 == 0:\n",
    "        return num == 2\n",
    "    if num < 2: return False\n",
    "    test_num = 3\n",
    "    while test_num * test_num < num:\n",
    "        if num % test_num == 0:\n",
    "            return False\n",
    "        test_num += 2\n",
    "    return True\n",
    "\n",
    "def get_n_primes(N):\n",
    "    if N == 0:\n",
    "        return []\n",
    "    primes = [2]\n",
    "    next_num = 3\n",
    "    while len(primes) != N:\n",
    "        if is_prime2(next_num):\n",
    "            primes.append(next_num)\n",
    "        next_num += 2\n",
    "    return primes\n",
    "\n",
    "# print(get_n_primes(10))\n",
    "assert(get_n_primes(3) == [2, 3, 5])"
   ]
  },
  {
   "cell_type": "markdown",
   "metadata": {},
   "source": [
    "### 4.2 Write a function that takes an integer parameter (N) and returns the Nth Fibonacci number.\n",
    "\n",
    "The Fibonacci series starts as 1, 1, 2, 3, 5, 8, so the 2nd number is 1."
   ]
  },
  {
   "cell_type": "code",
   "execution_count": 15,
   "metadata": {
    "collapsed": true
   },
   "outputs": [],
   "source": [
    "def get_nth_fibonacci(N):\n",
    "    if N == 0:\n",
    "        return 0\n",
    "    earlier = 1\n",
    "    later = 1\n",
    "    count = 2\n",
    "    while count < N:\n",
    "        helper = earlier\n",
    "        earlier = later\n",
    "        later = earlier + helper\n",
    "        count += 1\n",
    "    return later\n",
    "\n",
    "# for i in range(10):\n",
    "#     print(get_nth_fibonacci(i))\n",
    "assert(get_nth_fibonacci(3) == 2)"
   ]
  },
  {
   "cell_type": "markdown",
   "metadata": {},
   "source": [
    "### 4.3 Write a function that takes an integer parameter (N) and returns a list of the first N Fibonacci numbers.\n",
    "\n",
    "You are encouraged to reuse previous functions."
   ]
  },
  {
   "cell_type": "code",
   "execution_count": 16,
   "metadata": {
    "collapsed": true
   },
   "outputs": [],
   "source": [
    "def get_n_fibonacci(N):\n",
    "    fibo = []\n",
    "    earlier = 1\n",
    "    later = 1\n",
    "    for i in range(N):\n",
    "        fibo.append(earlier)\n",
    "        helper = earlier\n",
    "        earlier = later\n",
    "        later = earlier + helper\n",
    "    return fibo\n",
    "    \n",
    "assert(get_n_fibonacci(4) == [1, 1, 2, 3])\n",
    "# for i in range(10):\n",
    "#     print(get_n_fibonacci(i))"
   ]
  },
  {
   "cell_type": "markdown",
   "metadata": {},
   "source": [
    "### \\*4.4 Write a function that takes two integers, A and B and returns B-A Fibonacci numbers starting from the Ath Fibonacci number to the (B-1)th number. See the example below."
   ]
  },
  {
   "cell_type": "code",
   "execution_count": 17,
   "metadata": {
    "collapsed": true
   },
   "outputs": [],
   "source": [
    "def get_range_fibonacci(A, B):\n",
    "    all_fibo = get_n_fibonacci(B)\n",
    "    return all_fibo[A-1:-1]\n",
    "\n",
    "assert(get_range_fibonacci(2, 5) == [1, 2, 3])"
   ]
  },
  {
   "cell_type": "markdown",
   "metadata": {},
   "source": [
    "## 5. Default and keyword arguments\n",
    "\n",
    "### 5.1 Write a function that computes the sum of a list with an optional starting value. If no starting value is provided, it should sum from 0."
   ]
  },
  {
   "cell_type": "code",
   "execution_count": 18,
   "metadata": {
    "collapsed": true
   },
   "outputs": [],
   "source": [
    "def sum_list(l, sum_start=0):\n",
    "    total_sum = sum_start\n",
    "    for element in l:\n",
    "        total_sum += element\n",
    "    return total_sum\n",
    "\n",
    "assert(sum_list([1, 2, 3]) == 6)\n",
    "assert(sum_list([1, 2, 3], 5) == 11)"
   ]
  },
  {
   "cell_type": "markdown",
   "metadata": {},
   "source": [
    "### 5.2 Write a function that takes two numbers and an arithmetic operator as a string (\"+\", \"-\", \"\\*\" or \"/\") and returns the result of the arithmetic operation on the two numbers. The default operation should be addition."
   ]
  },
  {
   "cell_type": "code",
   "execution_count": 19,
   "metadata": {
    "collapsed": true
   },
   "outputs": [],
   "source": [
    "def arithmetic(a, b, op='+'):\n",
    "    if op == '+': return a + b\n",
    "    if op == '-': return a - b\n",
    "    if op == '*': return a * b\n",
    "    if op == '/': return a / b\n",
    "\n",
    "assert(arithmetic(2, 3) == 5)\n",
    "assert(arithmetic(2, 3, \"-\") == -1)\n",
    "assert(arithmetic(2, 3, \"*\") == 6)\n",
    "assert(arithmetic(2, 3, \"/\") == 2/3)"
   ]
  },
  {
   "cell_type": "markdown",
   "metadata": {},
   "source": [
    "### \\*5.3 Write a function that takes three parameters. The third is a callable (function) that takes two parameters. The function should call its third parameter with the first two as parameters. If the third parameter is not specified the function should add the two arguments.\n",
    "\n",
    "This is very similar to the previous function but the third parameter is a function instead of a string."
   ]
  },
  {
   "cell_type": "code",
   "execution_count": 20,
   "metadata": {
    "collapsed": true
   },
   "outputs": [],
   "source": [
    "def call_func(arg1, arg2, func=None):\n",
    "    if func is None:\n",
    "        return arg1 + arg2\n",
    "    return func(arg1, arg2)\n",
    "\n",
    "def product(x, y):\n",
    "    return x * y\n",
    "\n",
    "assert(call_func(3, 4, product) == 12)\n",
    "assert(call_func(\"foo\", \"bar\") == \"foobar\")"
   ]
  },
  {
   "cell_type": "markdown",
   "metadata": {},
   "source": [
    "## 6. Extra exercises\n",
    "\n",
    "### \\*6.1 Create a function that take a list and a predicate (function with boolean return value) as parameters and returns a new list of those elements which the predicate return True.\n",
    "\n",
    "A predicate is a function that takes one element and return `True` or `False`, for example `is_even`, `is_prime`.\n",
    "\n",
    "If you implemented The following tests should run."
   ]
  },
  {
   "cell_type": "code",
   "execution_count": 21,
   "metadata": {
    "collapsed": true
   },
   "outputs": [],
   "source": [
    "def filter_list(input_list, predicate):\n",
    "    output_list = []\n",
    "    for element in input_list:\n",
    "        if predicate(element):\n",
    "            output_list.append(element)\n",
    "        \n",
    "    return output_list\n",
    "\n",
    "def is_prime(num):\n",
    "    if num < 0: num = -num\n",
    "    if num % 2 == 0:\n",
    "        return num == 2\n",
    "    if num < 2: return False\n",
    "    test_num = 3\n",
    "    while test_num * test_num < num:\n",
    "        if num % test_num == 0:\n",
    "            return False\n",
    "        test_num += 2\n",
    "    return True\n",
    "\n",
    "def is_odd(n):\n",
    "    return n % 2 == 1\n",
    "\n",
    "l1 = [1, 2, 3, 4, 19, 35, 11]\n",
    "\n",
    "# print(filter_list(l1, is_prime))\n",
    "assert(filter_list(l1, is_odd) == [1, 3, 19, 35, 11])\n",
    "assert(filter_list(l1, is_prime) == [2, 3, 19, 11])"
   ]
  },
  {
   "cell_type": "markdown",
   "metadata": {},
   "source": [
    "### \\*6.2 Reduce is a function that applies a two argument function against an accumulator and each element in the sequence (from left to right) to reduce it to a single value. If no initial value is provided, the accumulator is initialized with the return value of the function run on the first two elements of the sequence.\n",
    "\n",
    "```\n",
    "reduce([1, 2, 3], product) ---> 6\n",
    "reduce([1, 2, 3], product, accumulator=10) ---> 60\n",
    "reduce([\"foo\", \"bar\"], string_addition) ---> \"foobar\"\n",
    "reduce([\"foo\", \"bar\"], string_addition, accumulator=\"hello\") ---> \"hellofoobar\"\n",
    "```"
   ]
  },
  {
   "cell_type": "code",
   "execution_count": 22,
   "metadata": {
    "collapsed": true
   },
   "outputs": [],
   "source": [
    "def reduce(l, acc_func, accumulator=None):\n",
    "    result = accumulator\n",
    "    if result is None:\n",
    "        result = acc_func(l[0], l[1])\n",
    "        \n",
    "    for i in range(2 if accumulator is None else 0, len(l)):\n",
    "        result = acc_func(result, l[i])\n",
    "    return result\n",
    "    \n",
    "def add(x, y):\n",
    "    return x + y\n",
    "\n",
    "l1 = [1, 2, -1, 5]\n",
    "\n",
    "assert(reduce(l1, add) == 7)\n",
    "assert(reduce(l1, add, 10) == 17)"
   ]
  },
  {
   "cell_type": "code",
   "execution_count": 23,
   "metadata": {
    "collapsed": true
   },
   "outputs": [],
   "source": [
    "def string_len_add(acc, s):\n",
    "    return acc + len(s)\n",
    "\n",
    "l2 = [\"foo\", \"bar\", \"hello\"]\n",
    "\n",
    "assert(reduce(l2, string_len_add, 0) == 11)"
   ]
  },
  {
   "cell_type": "markdown",
   "metadata": {},
   "source": [
    "### \\*6.3 Use your reduce function for the following operations:\n",
    "\n",
    "1. count the number of odd elements in a list of integers,\n",
    "2. find the maximum of a list of integers,\n",
    "3. find the longest string in list of strings.\n",
    "\n",
    "Test your solutions."
   ]
  },
  {
   "cell_type": "code",
   "execution_count": 24,
   "metadata": {
    "collapsed": true
   },
   "outputs": [],
   "source": [
    "def count_odd(a, b):\n",
    "    return a+1 if b % 2 == 0 else a\n",
    "\n",
    "def find_max(a, b):\n",
    "    return a if a > b else b\n",
    "\n",
    "def find_longest_string(a, b):\n",
    "    return a if len(a) > len(b) else b\n",
    "\n",
    "nums = [1,2,3,4,5,6,7]\n",
    "strings = ['a', 'abcd', 'ab']\n",
    "\n",
    "assert(reduce(nums, count_odd) == 4)\n",
    "assert(reduce(nums, find_max) == 7)\n",
    "assert(reduce(strings, find_longest_string) == 'abcd')"
   ]
  },
  {
   "cell_type": "markdown",
   "metadata": {},
   "source": [
    "### \\*6.4 Implement qsort. Qsort sorts a list in place using the quicksort algorithm."
   ]
  },
  {
   "cell_type": "code",
   "execution_count": 48,
   "metadata": {
    "collapsed": false
   },
   "outputs": [],
   "source": [
    "def qsort(array):\n",
    "    less = []\n",
    "    equal = []\n",
    "    greater = []\n",
    "\n",
    "    if len(array) > 1:\n",
    "        pivot = array[0]\n",
    "        for x in array:\n",
    "            if x < pivot:\n",
    "                less.append(x)\n",
    "            if x == pivot:\n",
    "                equal.append(x)\n",
    "            if x > pivot:\n",
    "                greater.append(x)\n",
    "        array[:] = []\n",
    "        array.extend(qsort(less))\n",
    "        array.extend(equal)\n",
    "        array.extend(qsort(greater))\n",
    "    return array\n",
    "    \n",
    "l = [10, -1, 2, 11, 0]\n",
    "\n",
    "qsort(l)\n",
    "assert(l == [-1, 0, 2, 10, 11])"
   ]
  },
  {
   "cell_type": "markdown",
   "metadata": {},
   "source": [
    "### \\*6.5 Implement bubble sort (in place)."
   ]
  },
  {
   "cell_type": "code",
   "execution_count": 50,
   "metadata": {
    "collapsed": false
   },
   "outputs": [],
   "source": [
    "def bubblesort(l):\n",
    "    sorted = False\n",
    "\n",
    "    while not sorted:\n",
    "        sorted = True\n",
    "        for element in range(0, len(l)-1):\n",
    "            if l[element] > l[element + 1]:\n",
    "                sorted = False\n",
    "                hold = l[element + 1]\n",
    "                l[element + 1] = l[element]\n",
    "                l[element] = hold\n",
    "    \n",
    "l = [10, -1, 2, 11, 0]\n",
    "\n",
    "bubblesort(l)\n",
    "\n",
    "assert(l == [-1, 0, 2, 10, 11])"
   ]
  }
 ],
 "metadata": {
  "kernelspec": {
   "display_name": "Python 3",
   "language": "python",
   "name": "python3"
  },
  "language_info": {
   "codemirror_mode": {
    "name": "ipython",
    "version": 3
   },
   "file_extension": ".py",
   "mimetype": "text/x-python",
   "name": "python",
   "nbconvert_exporter": "python",
   "pygments_lexer": "ipython3",
   "version": "3.6.0"
  },
  "toc": {
   "colors": {
    "hover_highlight": "#DAA520",
    "navigate_num": "#000000",
    "navigate_text": "#333333",
    "running_highlight": "#FF0000",
    "selected_highlight": "#FFD700",
    "sidebar_border": "#EEEEEE",
    "wrapper_background": "#FFFFFF"
   },
   "moveMenuLeft": true,
   "nav_menu": {
    "height": "12px",
    "width": "252px"
   },
   "navigate_menu": true,
   "number_sections": true,
   "sideBar": true,
   "threshold": 4,
   "toc_cell": false,
   "toc_section_display": "block",
   "toc_window_display": false,
   "widenNotebook": false
  }
 },
 "nbformat": 4,
 "nbformat_minor": 2
}
