{
 "cells": [
  {
   "cell_type": "markdown",
   "metadata": {},
   "source": [
    "Please fill out the feedback form:\n",
    "\n",
    "https://docs.google.com/forms/d/e/1FAIpQLScORHXiMgjvLJDl35SFPA1uXF8J8kSMxV6SkcZSQBRvyhj0CA/viewform?usp=sf_link\n",
    "\n",
    "And now for something completely different..."
   ]
  },
  {
   "cell_type": "markdown",
   "metadata": {},
   "source": [
    "# Python for mathematics, science and engineering\n",
    "https://scipy.org/\n",
    "\n",
    "## Numpy\n",
    "`numpy` is a `python` package\n",
    "\n",
    "* linear algebra, Fourier transform and random numbers\n",
    "* easy-to-use matrices, arrays, tensors\n",
    "* optimized\n",
    "* C/C++/Fortran integration is possible (if optimization is not enough)\n",
    "\n",
    "<div align=center><i>\"Numpy is the MatLab of python!\"</i></div>"
   ]
  },
  {
   "cell_type": "code",
   "execution_count": 1,
   "metadata": {
    "collapsed": true
   },
   "outputs": [],
   "source": [
    "import numpy"
   ]
  },
  {
   "cell_type": "markdown",
   "metadata": {},
   "source": [
    "We will use the following for plotting."
   ]
  },
  {
   "cell_type": "code",
   "execution_count": 2,
   "metadata": {
    "collapsed": true
   },
   "outputs": [],
   "source": [
    "%matplotlib inline\n",
    "import matplotlib.pyplot"
   ]
  },
  {
   "cell_type": "markdown",
   "metadata": {},
   "source": [
    "Numpy uses an underlying [BLAS](http://www.netlib.org/blas/) library, just as MatLab does. These libraries harvests the vectorization.\n",
    "* Anaconda uses IntelMKL (Intel's proprietary math library)\n",
    "* If you install numpy manually, and you have previously installed [OpenBLAS](http://www.openblas.net/) (free, opensource), then numpy will use that."
   ]
  },
  {
   "cell_type": "code",
   "execution_count": 3,
   "metadata": {},
   "outputs": [
    {
     "name": "stdout",
     "output_type": "stream",
     "text": [
      "blas_mkl_info:\n",
      "    libraries = ['mkl_core_dll', 'mkl_intel_lp64_dll', 'mkl_intel_thread_dll']\n",
      "    library_dirs = ['D:/Anaconda3\\\\Library\\\\lib']\n",
      "    define_macros = [('SCIPY_MKL_H', None), ('HAVE_CBLAS', None)]\n",
      "    include_dirs = ['D:/Anaconda3\\\\Library\\\\include']\n",
      "blas_opt_info:\n",
      "    libraries = ['mkl_core_dll', 'mkl_intel_lp64_dll', 'mkl_intel_thread_dll']\n",
      "    library_dirs = ['D:/Anaconda3\\\\Library\\\\lib']\n",
      "    define_macros = [('SCIPY_MKL_H', None), ('HAVE_CBLAS', None)]\n",
      "    include_dirs = ['D:/Anaconda3\\\\Library\\\\include']\n",
      "lapack_mkl_info:\n",
      "    libraries = ['mkl_core_dll', 'mkl_intel_lp64_dll', 'mkl_intel_thread_dll']\n",
      "    library_dirs = ['D:/Anaconda3\\\\Library\\\\lib']\n",
      "    define_macros = [('SCIPY_MKL_H', None), ('HAVE_CBLAS', None)]\n",
      "    include_dirs = ['D:/Anaconda3\\\\Library\\\\include']\n",
      "lapack_opt_info:\n",
      "    libraries = ['mkl_core_dll', 'mkl_intel_lp64_dll', 'mkl_intel_thread_dll']\n",
      "    library_dirs = ['D:/Anaconda3\\\\Library\\\\lib']\n",
      "    define_macros = [('SCIPY_MKL_H', None), ('HAVE_CBLAS', None)]\n",
      "    include_dirs = ['D:/Anaconda3\\\\Library\\\\include']\n"
     ]
    }
   ],
   "source": [
    "numpy.show_config()"
   ]
  },
  {
   "cell_type": "markdown",
   "metadata": {
    "collapsed": true
   },
   "source": [
    "### First steps\n",
    "\n",
    "The core object of `numpy` is the `numpy.ndarray` (_$n$-dimensional array_)."
   ]
  },
  {
   "cell_type": "code",
   "execution_count": 4,
   "metadata": {},
   "outputs": [
    {
     "name": "stdout",
     "output_type": "stream",
     "text": [
      "(2, 2) int32\n"
     ]
    }
   ],
   "source": [
    "A = numpy.array([[1, 2], [3, 4]])\n",
    "\n",
    "print(A.shape, A.dtype)"
   ]
  },
  {
   "cell_type": "markdown",
   "metadata": {},
   "source": [
    "The `shape` is a tuple with the length of the number of dimensions. The i<sup>th</sup> element of the `shape` is the length of dimension $i$.\n",
    "\n",
    "The above is a $2\\times 2$ matrix. You can access its elements with `[]`. One index in one bracket, or with several indices."
   ]
  },
  {
   "cell_type": "code",
   "execution_count": 5,
   "metadata": {},
   "outputs": [
    {
     "name": "stdout",
     "output_type": "stream",
     "text": [
      "1 2 3 4\n",
      "[1 2]\n",
      "1\n"
     ]
    }
   ],
   "source": [
    "print(A[0, 0], A[0, 1], A[1, 0], A[1, 1])\n",
    "print(A[0])\n",
    "print(A[0][0])"
   ]
  },
  {
   "cell_type": "markdown",
   "metadata": {},
   "source": [
    "In general, an $n$-dimensional array requires $n$ indices to access its scalar elements."
   ]
  },
  {
   "cell_type": "code",
   "execution_count": 6,
   "metadata": {},
   "outputs": [
    {
     "name": "stdout",
     "output_type": "stream",
     "text": [
      "(1, 2, 3)\n",
      "\n",
      "[[1 2 3]\n",
      " [4 5 6]]\n",
      "[4 5 6]\n",
      "6\n"
     ]
    }
   ],
   "source": [
    "B = numpy.array([[[1, 2, 3],[4, 5, 6]]])\n",
    "print(B.shape)\n",
    "print()\n",
    "print(B[0])\n",
    "print(B[0, 1])\n",
    "print(B[0, 1, 2])"
   ]
  },
  {
   "cell_type": "markdown",
   "metadata": {},
   "source": [
    "### under the hood"
   ]
  },
  {
   "cell_type": "markdown",
   "metadata": {},
   "source": [
    "The default array representation is C style ([row-major](https://en.wikipedia.org/wiki/Row-_and_column-major_order)) indexing. But you cannot rely on the representation, it is advised not to use the low level C arrays!"
   ]
  },
  {
   "cell_type": "code",
   "execution_count": 7,
   "metadata": {},
   "outputs": [
    {
     "name": "stdout",
     "output_type": "stream",
     "text": [
      "(24, 12, 4)\n",
      "  C_CONTIGUOUS : True\n",
      "  F_CONTIGUOUS : False\n",
      "  OWNDATA : True\n",
      "  WRITEABLE : True\n",
      "  ALIGNED : True\n",
      "  UPDATEIFCOPY : False\n"
     ]
    }
   ],
   "source": [
    "print(B.strides)\n",
    "print(B.flags)"
   ]
  },
  {
   "cell_type": "markdown",
   "metadata": {},
   "source": [
    "### Operations on arrays"
   ]
  },
  {
   "cell_type": "markdown",
   "metadata": {},
   "source": [
    "Arithmetic operators are overloaded, they act element-wise."
   ]
  },
  {
   "cell_type": "code",
   "execution_count": 8,
   "metadata": {},
   "outputs": [
    {
     "name": "stdout",
     "output_type": "stream",
     "text": [
      "[[False False]\n",
      " [ True  True]]\n",
      "bool\n"
     ]
    }
   ],
   "source": [
    "P = A > 2\n",
    "print(P)\n",
    "print(P.dtype)"
   ]
  },
  {
   "cell_type": "code",
   "execution_count": 9,
   "metadata": {},
   "outputs": [
    {
     "name": "stdout",
     "output_type": "stream",
     "text": [
      "[[2 4]\n",
      " [6 8]]\n",
      "\n",
      "[[ 1  4]\n",
      " [ 9 16]]\n"
     ]
    }
   ],
   "source": [
    "print(A + A)\n",
    "print()\n",
    "print(A * A)"
   ]
  },
  {
   "cell_type": "code",
   "execution_count": 10,
   "metadata": {},
   "outputs": [
    {
     "name": "stdout",
     "output_type": "stream",
     "text": [
      "[[  2.71828183   7.3890561 ]\n",
      " [ 20.08553692  54.59815003]]\n",
      "[[ 2  4]\n",
      " [ 8 16]]\n",
      "[[ 1.          0.5       ]\n",
      " [ 0.33333333  0.25      ]]\n"
     ]
    }
   ],
   "source": [
    "print(numpy.exp(A))\n",
    "print(2**A)\n",
    "print(1/A)"
   ]
  },
  {
   "cell_type": "markdown",
   "metadata": {},
   "source": [
    "Functions like `dot`, `inv`, `pinv` are not element wise, but matrix algebraic operations."
   ]
  },
  {
   "cell_type": "code",
   "execution_count": 12,
   "metadata": {},
   "outputs": [
    {
     "name": "stdout",
     "output_type": "stream",
     "text": [
      "[[ 7 10]\n",
      " [15 22]]\n",
      "\n",
      "[[-2.   1. ]\n",
      " [ 1.5 -0.5]]\n"
     ]
    }
   ],
   "source": [
    "print(A.dot(A))\n",
    "print()\n",
    "print(numpy.linalg.inv(A))"
   ]
  },
  {
   "cell_type": "markdown",
   "metadata": {},
   "source": [
    "Also, there is a `matrix` class for which `*` acts as a matrix product."
   ]
  },
  {
   "cell_type": "code",
   "execution_count": 14,
   "metadata": {},
   "outputs": [
    {
     "name": "stdout",
     "output_type": "stream",
     "text": [
      "[[ 1  4]\n",
      " [ 9 16]]\n",
      "\n",
      "[[ 7 10]\n",
      " [15 22]]\n"
     ]
    }
   ],
   "source": [
    "M = numpy.matrix([[1, 2], [3, 4]])\n",
    "print(numpy.multiply(M, M))\n",
    "print()\n",
    "print(M * M)"
   ]
  },
  {
   "cell_type": "markdown",
   "metadata": {},
   "source": [
    "### Casting\n",
    "In `python` float and integer representation is fixed, in `numpy` you can use C types."
   ]
  },
  {
   "cell_type": "code",
   "execution_count": 15,
   "metadata": {},
   "outputs": [
    {
     "data": {
      "text/plain": [
       "array([[0, 0],\n",
       "       [1, 1]])"
      ]
     },
     "execution_count": 15,
     "metadata": {},
     "output_type": "execute_result"
    }
   ],
   "source": [
    "P.astype(int)"
   ]
  },
  {
   "cell_type": "code",
   "execution_count": 16,
   "metadata": {},
   "outputs": [
    {
     "data": {
      "text/plain": [
       "array([[         0,          0],\n",
       "       [4294967295, 4294967295]], dtype=uint32)"
      ]
     },
     "execution_count": 16,
     "metadata": {},
     "output_type": "execute_result"
    }
   ],
   "source": [
    "(-P.astype(int)).astype(\"uint32\")"
   ]
  },
  {
   "cell_type": "code",
   "execution_count": 17,
   "metadata": {},
   "outputs": [
    {
     "data": {
      "text/plain": [
       "array([[ 1.,  2.],\n",
       "       [ 3.,  4.]], dtype=float32)"
      ]
     },
     "execution_count": 17,
     "metadata": {},
     "output_type": "execute_result"
    }
   ],
   "source": [
    "numpy.array([[1, 2], [3, 4]], dtype=\"float32\")"
   ]
  },
  {
   "cell_type": "code",
   "execution_count": 18,
   "metadata": {},
   "outputs": [
    {
     "name": "stdout",
     "output_type": "stream",
     "text": [
      "['a' 'text']\n",
      "(2,)\n"
     ]
    }
   ],
   "source": [
    "T = numpy.array(['a', 'text'])\n",
    "print(T)\n",
    "print(T.shape)"
   ]
  },
  {
   "cell_type": "markdown",
   "metadata": {},
   "source": [
    "Directly converts strings to numbers"
   ]
  },
  {
   "cell_type": "code",
   "execution_count": 19,
   "metadata": {},
   "outputs": [
    {
     "data": {
      "text/plain": [
       "-10.0"
      ]
     },
     "execution_count": 19,
     "metadata": {},
     "output_type": "execute_result"
    }
   ],
   "source": [
    "numpy.float32('-10')"
   ]
  },
  {
   "cell_type": "markdown",
   "metadata": {},
   "source": [
    "Use the cast on arrays"
   ]
  },
  {
   "cell_type": "code",
   "execution_count": 20,
   "metadata": {},
   "outputs": [
    {
     "data": {
      "text/plain": [
       "array([ 10.,  20.], dtype=float32)"
      ]
     },
     "execution_count": 20,
     "metadata": {},
     "output_type": "execute_result"
    }
   ],
   "source": [
    "numpy.array(['10', '20'], dtype=\"float32\")"
   ]
  },
  {
   "cell_type": "markdown",
   "metadata": {},
   "source": [
    "### Slicing, advanced indexing\n",
    "One can slice a sub-array from an array.\n",
    "\n",
    "Use `:` for retrieving the full size along that dimension."
   ]
  },
  {
   "cell_type": "code",
   "execution_count": 21,
   "metadata": {},
   "outputs": [
    {
     "name": "stdout",
     "output_type": "stream",
     "text": [
      "[1 2 3]\n",
      "[1 2 3]\n",
      "[1 4]\n"
     ]
    }
   ],
   "source": [
    "A = numpy.array([[1, 2, 3], [4, 5, 6]])\n",
    "print(A[0])\n",
    "print(A[0, :]) # first row\n",
    "print(A[:, 0])  # first column"
   ]
  },
  {
   "cell_type": "markdown",
   "metadata": {},
   "source": [
    "These are 1D vectors, neither $1\\times n$ nor $n\\times1$ matrices!"
   ]
  },
  {
   "cell_type": "code",
   "execution_count": 24,
   "metadata": {},
   "outputs": [
    {
     "name": "stdout",
     "output_type": "stream",
     "text": [
      "(3,) (2,)\n"
     ]
    }
   ],
   "source": [
    "print(A[0, :].shape, A[:, 0].shape)"
   ]
  },
  {
   "cell_type": "code",
   "execution_count": 23,
   "metadata": {},
   "outputs": [
    {
     "name": "stdout",
     "output_type": "stream",
     "text": [
      "[[[1 2 3]\n",
      "  [4 5 6]]]\n",
      "[[4 5 6]]\n",
      "(1, 3)\n"
     ]
    }
   ],
   "source": [
    "print(B)\n",
    "print(B[:, 1, :])\n",
    "print(B[:, 1, :].shape)"
   ]
  },
  {
   "cell_type": "markdown",
   "metadata": {},
   "source": [
    "All python range indexing also work, like reverse:"
   ]
  },
  {
   "cell_type": "code",
   "execution_count": 26,
   "metadata": {},
   "outputs": [
    {
     "name": "stdout",
     "output_type": "stream",
     "text": [
      "[[1 2 3]\n",
      " [4 5 6]]\n",
      "[[3 2 1]\n",
      " [6 5 4]]\n",
      "[[4 5 6]\n",
      " [1 2 3]]\n",
      "[[1 3]\n",
      " [4 6]]\n"
     ]
    }
   ],
   "source": [
    "print(A)\n",
    "print(A[:, ::-1])\n",
    "print(A[::-1, :])\n",
    "print(A[:, ::2])"
   ]
  },
  {
   "cell_type": "markdown",
   "metadata": {},
   "source": [
    "_Advanced indexing_ is when the index is a list."
   ]
  },
  {
   "cell_type": "code",
   "execution_count": 29,
   "metadata": {},
   "outputs": [
    {
     "name": "stdout",
     "output_type": "stream",
     "text": [
      "[0 1 2 3 4]\n",
      "[0 2]\n",
      "\n",
      "[[[1 2 3]\n",
      "  [4 5 6]]]\n",
      "[1 3]\n"
     ]
    },
    {
     "data": {
      "text/plain": [
       "array([[1, 4],\n",
       "       [3, 6]])"
      ]
     },
     "execution_count": 29,
     "metadata": {},
     "output_type": "execute_result"
    }
   ],
   "source": [
    "print(numpy.array(range(5)))\n",
    "print(numpy.array(range(5))[[0, 2]])\n",
    "print()\n",
    "print(B)\n",
    "print(B[0, 0, [0,2]])\n",
    "B[0, :, [0,2]] # first and third \"column\""
   ]
  },
  {
   "cell_type": "markdown",
   "metadata": {},
   "source": [
    "If indices are all lists:\n",
    "<div align=center>B[$i_1$, $i_2$, $\\ldots$].shape = (len($i_1$), len($i_2$), $\\ldots$)</div>\n",
    "\n",
    "The size of a particular dimension remains when the corresponding index is a colon (`:`).\n",
    "\n",
    "If an index is a scalar then that dimension disappears from the shape of the output.\n",
    "\n",
    "One can use a one-length list in advanced indexing. In that case, the number of dimensions remains but the size of that dimension becomes one."
   ]
  },
  {
   "cell_type": "code",
   "execution_count": 30,
   "metadata": {},
   "outputs": [
    {
     "name": "stdout",
     "output_type": "stream",
     "text": [
      "(1, 2)\n",
      "[[3 6]]\n",
      "\n",
      "(1, 2, 1)\n",
      "[[[3]\n",
      "  [6]]]\n"
     ]
    }
   ],
   "source": [
    "print(B[:, :, 2].shape)\n",
    "print(B[:, :, 2])\n",
    "print()\n",
    "print(B[:, :, [2]].shape)\n",
    "print(B[:, :, [2]])"
   ]
  },
  {
   "cell_type": "markdown",
   "metadata": {},
   "source": [
    "### Change shape\n",
    "The shape of an array can be modified with `reshape`, as long as the number of elements remains the same. The underlying elements are unchanged and not copied in the memory."
   ]
  },
  {
   "cell_type": "code",
   "execution_count": 31,
   "metadata": {},
   "outputs": [
    {
     "name": "stdout",
     "output_type": "stream",
     "text": [
      "[[1 2 3]\n",
      " [4 5 6]]\n",
      "\n",
      "[[1 2]\n",
      " [3 4]\n",
      " [5 6]]\n"
     ]
    }
   ],
   "source": [
    "print(B.reshape((2, 3)))\n",
    "print()\n",
    "print(B.reshape((3, 2)))"
   ]
  },
  {
   "cell_type": "code",
   "execution_count": 32,
   "metadata": {},
   "outputs": [
    {
     "data": {
      "text/plain": [
       "array([[0, 1, 2],\n",
       "       [3, 4, 5]])"
      ]
     },
     "execution_count": 32,
     "metadata": {},
     "output_type": "execute_result"
    }
   ],
   "source": [
    "numpy.array(range(6)).reshape((2, 3))"
   ]
  },
  {
   "cell_type": "markdown",
   "metadata": {},
   "source": [
    "The size `-1` can be used to span the resulted array as much as it can in that dimension."
   ]
  },
  {
   "cell_type": "code",
   "execution_count": 33,
   "metadata": {},
   "outputs": [
    {
     "name": "stdout",
     "output_type": "stream",
     "text": [
      "shape (2, 3, 2) :\n",
      "[[[ 0  1]\n",
      "  [ 2  3]\n",
      "  [ 4  5]]\n",
      "\n",
      " [[ 6  7]\n",
      "  [ 8  9]\n",
      "  [10 11]]]\n"
     ]
    }
   ],
   "source": [
    "X = numpy.array(range(12)).reshape((2, -1, 2))\n",
    "print(\"shape\", X.shape, \":\")\n",
    "print(X)"
   ]
  },
  {
   "cell_type": "code",
   "execution_count": 38,
   "metadata": {},
   "outputs": [
    {
     "data": {
      "text/plain": [
       "array([[ 0,  1],\n",
       "       [ 2,  3],\n",
       "       [ 4,  5],\n",
       "       [ 6,  7],\n",
       "       [ 8,  9],\n",
       "       [10, 11]])"
      ]
     },
     "execution_count": 38,
     "metadata": {},
     "output_type": "execute_result"
    }
   ],
   "source": [
    "X.reshape((6, -1))"
   ]
  },
  {
   "cell_type": "markdown",
   "metadata": {},
   "source": [
    "`resize` deletes elements or fills with zeros but it works only _inplace_."
   ]
  },
  {
   "cell_type": "code",
   "execution_count": 40,
   "metadata": {},
   "outputs": [
    {
     "name": "stdout",
     "output_type": "stream",
     "text": [
      "[[ 0  1  2]\n",
      " [ 3  4  5]\n",
      " [ 6  7  8]\n",
      " [ 9 10 11]\n",
      " [ 0  0  0]]\n"
     ]
    }
   ],
   "source": [
    "Y = X.copy()\n",
    "Y.resize((5, 3))\n",
    "print(Y)"
   ]
  },
  {
   "cell_type": "markdown",
   "metadata": {},
   "source": [
    "However, `numpy.resize` (not a member) works differently"
   ]
  },
  {
   "cell_type": "code",
   "execution_count": 41,
   "metadata": {},
   "outputs": [
    {
     "data": {
      "text/plain": [
       "array([[ 0,  1,  2],\n",
       "       [ 3,  4,  5],\n",
       "       [ 6,  7,  8],\n",
       "       [ 9, 10, 11],\n",
       "       [ 0,  1,  2]])"
      ]
     },
     "execution_count": 41,
     "metadata": {},
     "output_type": "execute_result"
    }
   ],
   "source": [
    "numpy.resize(X, (5, 3))"
   ]
  },
  {
   "cell_type": "markdown",
   "metadata": {},
   "source": [
    "### Constucting arrays"
   ]
  },
  {
   "cell_type": "markdown",
   "metadata": {},
   "source": [
    "useful functions:\n",
    "* `arange`: range\n",
    "* `linspace`: equally divided interval\n",
    "* `ones`, `ones_like`, array filled with ones\n",
    "* `zeros`, `zeros_like`, array filled with zeros\n",
    "* `eye`: identity matrix, only 2D\n",
    "\n",
    "`numpy.ones_like()` ans `numpy.zeros_like()` keeps shape and `dtype`!"
   ]
  },
  {
   "cell_type": "code",
   "execution_count": 42,
   "metadata": {},
   "outputs": [
    {
     "name": "stdout",
     "output_type": "stream",
     "text": [
      "[0 1 2 3 4 5 6 7 8 9]\n",
      "[[0 1 2 3 4 5 6 7 8 9]]\n",
      "[[0]\n",
      " [1]\n",
      " [2]\n",
      " [3]\n",
      " [4]\n",
      " [5]\n",
      " [6]\n",
      " [7]\n",
      " [8]\n",
      " [9]]\n"
     ]
    },
    {
     "data": {
      "text/plain": [
       "array([[0],\n",
       "       [0],\n",
       "       [0],\n",
       "       [0],\n",
       "       [0],\n",
       "       [0],\n",
       "       [0],\n",
       "       [0],\n",
       "       [0],\n",
       "       [0]], dtype=int8)"
      ]
     },
     "execution_count": 42,
     "metadata": {},
     "output_type": "execute_result"
    }
   ],
   "source": [
    "R = numpy.arange(10, dtype=\"int8\")\n",
    "print(R)\n",
    "R = R.reshape((1, -1))\n",
    "print(R)\n",
    "R = R.reshape((-1, 1))\n",
    "print(R)\n",
    "numpy.zeros_like(R)"
   ]
  },
  {
   "cell_type": "code",
   "execution_count": 43,
   "metadata": {},
   "outputs": [
    {
     "name": "stdout",
     "output_type": "stream",
     "text": [
      "[[ 1.  0.  0.  0.  0.]\n",
      " [ 0.  1.  0.  0.  0.]\n",
      " [ 0.  0.  1.  0.  0.]\n",
      " [ 0.  0.  0.  1.  0.]\n",
      " [ 0.  0.  0.  0.  1.]]\n",
      "[[ True False False False False]\n",
      " [False  True False False False]\n",
      " [False False  True False False]\n",
      " [False False False  True False]\n",
      " [False False False False  True]]\n"
     ]
    }
   ],
   "source": [
    "print(numpy.eye(5))\n",
    "print(numpy.eye(5, dtype=bool))"
   ]
  },
  {
   "cell_type": "markdown",
   "metadata": {},
   "source": [
    "there is no `numpy.eye_like`, but you can use the following:"
   ]
  },
  {
   "cell_type": "code",
   "execution_count": 44,
   "metadata": {},
   "outputs": [
    {
     "data": {
      "text/plain": [
       "array([[1, 0, 0],\n",
       "       [0, 1, 0]])"
      ]
     },
     "execution_count": 44,
     "metadata": {},
     "output_type": "execute_result"
    }
   ],
   "source": [
    "numpy.eye(*A.shape, dtype=A.dtype)"
   ]
  },
  {
   "cell_type": "markdown",
   "metadata": {},
   "source": [
    "#### Concatenation\n",
    "The axis to concatenate sums the size of the dimensions in that axis. The other axis should be all equal."
   ]
  },
  {
   "cell_type": "code",
   "execution_count": 46,
   "metadata": {},
   "outputs": [
    {
     "name": "stdout",
     "output_type": "stream",
     "text": [
      "[[1 2 3]\n",
      " [4 5 6]]\n",
      "[[[1 2 3]\n",
      "  [4 5 6]]]\n",
      "\n",
      "[[1 2 3 1 2 3]\n",
      " [4 5 6 4 5 6]]\n",
      "[[1 2 3]\n",
      " [4 5 6]\n",
      " [1 2 3]\n",
      " [4 5 6]]\n",
      "[[[1 2 3 1 2 3]\n",
      "  [4 5 6 4 5 6]]]\n"
     ]
    }
   ],
   "source": [
    "print(A)\n",
    "print(B)\n",
    "print()\n",
    "print(numpy.concatenate([A, A], axis=1))\n",
    "print(numpy.concatenate([A, A], axis=0))\n",
    "print(numpy.concatenate([B, B], axis=2))"
   ]
  },
  {
   "cell_type": "code",
   "execution_count": 48,
   "metadata": {},
   "outputs": [
    {
     "name": "stdout",
     "output_type": "stream",
     "text": [
      "[[[ 1.  1.  1.]\n",
      "  [ 1.  1.  1.]\n",
      "  [ 1.  1.  1.]\n",
      "  [ 1.  1.  1.]\n",
      "  [ 1.  1.  1.]\n",
      "  [ 1.  1.  1.]\n",
      "  [ 1.  1.  1.]\n",
      "  [ 1.  1.  1.]\n",
      "  [ 1.  1.  1.]\n",
      "  [ 1.  1.  1.]]]\n",
      "(1, 10, 3)\n"
     ]
    }
   ],
   "source": [
    "print(numpy.concatenate([numpy.ones((1,2,3)), numpy.ones((1,5,3)), numpy.ones((1,3,3))], axis=1))\n",
    "print(numpy.concatenate([numpy.ones((1,2,3)), numpy.ones((1,5,3)), numpy.ones((1,3,3))], axis=1).shape)"
   ]
  },
  {
   "cell_type": "markdown",
   "metadata": {},
   "source": [
    "Block matrix"
   ]
  },
  {
   "cell_type": "code",
   "execution_count": 49,
   "metadata": {},
   "outputs": [
    {
     "data": {
      "text/plain": [
       "array([[ 1.,  1.,  0.,  0.],\n",
       "       [ 1.,  1.,  0.,  0.],\n",
       "       [ 0.,  0.,  1.,  1.],\n",
       "       [ 0.,  0.,  1.,  1.]])"
      ]
     },
     "execution_count": 49,
     "metadata": {},
     "output_type": "execute_result"
    }
   ],
   "source": [
    "numpy.concatenate([numpy.concatenate([numpy.ones((2,2)), numpy.zeros((2,2))], axis=1), numpy.concatenate([numpy.zeros((2,2)), numpy.ones((2,2))], axis=1)], axis=0)"
   ]
  },
  {
   "cell_type": "markdown",
   "metadata": {
    "collapsed": true
   },
   "source": [
    "#### Stack"
   ]
  },
  {
   "cell_type": "markdown",
   "metadata": {},
   "source": [
    "`stack` puts the arrays next to each other, using a new dimension. Each array must have the same shape."
   ]
  },
  {
   "cell_type": "code",
   "execution_count": 50,
   "metadata": {},
   "outputs": [
    {
     "name": "stdout",
     "output_type": "stream",
     "text": [
      "[[[ 1.  1.]\n",
      "  [ 1.  1.]\n",
      "  [ 1.  1.]]\n",
      "\n",
      " [[ 0.  0.]\n",
      "  [ 0.  0.]\n",
      "  [ 0.  0.]]]\n",
      "(2, 3, 2)\n",
      "\n",
      "[[[ 1.  1.]\n",
      "  [ 0.  0.]]\n",
      "\n",
      " [[ 1.  1.]\n",
      "  [ 0.  0.]]\n",
      "\n",
      " [[ 1.  1.]\n",
      "  [ 0.  0.]]]\n",
      "(3, 2, 2)\n",
      "\n",
      "[[[ 1.  0.]\n",
      "  [ 1.  0.]]\n",
      "\n",
      " [[ 1.  0.]\n",
      "  [ 1.  0.]]\n",
      "\n",
      " [[ 1.  0.]\n",
      "  [ 1.  0.]]]\n",
      "(3, 2, 2)\n",
      "\n"
     ]
    }
   ],
   "source": [
    "for i in [0, 1, 2]:\n",
    "    X = numpy.stack([numpy.ones((3,2)), numpy.zeros((3,2))], axis=i)\n",
    "    print(X)\n",
    "    print(X.shape)\n",
    "    print()"
   ]
  },
  {
   "cell_type": "markdown",
   "metadata": {},
   "source": [
    "### Iteration\n",
    "By default, iteration takes place in the first (outermost) dimension."
   ]
  },
  {
   "cell_type": "code",
   "execution_count": 51,
   "metadata": {},
   "outputs": [
    {
     "name": "stdout",
     "output_type": "stream",
     "text": [
      "[1 2 3]\n",
      "[4 5 6]\n"
     ]
    }
   ],
   "source": [
    "for row in A:\n",
    "    print(row)"
   ]
  },
  {
   "cell_type": "markdown",
   "metadata": {},
   "source": [
    "But you can slice the desired elements for a loop."
   ]
  },
  {
   "cell_type": "code",
   "execution_count": 52,
   "metadata": {},
   "outputs": [
    {
     "name": "stdout",
     "output_type": "stream",
     "text": [
      "[1 2 3]\n",
      "\n",
      "1\n",
      "2\n",
      "3\n"
     ]
    }
   ],
   "source": [
    "print(B[0, 0, :])\n",
    "print()\n",
    "for x in B[0, 0, :]:\n",
    "    print(x)"
   ]
  },
  {
   "cell_type": "code",
   "execution_count": 54,
   "metadata": {},
   "outputs": [
    {
     "name": "stdout",
     "output_type": "stream",
     "text": [
      "[[[1 2 3]]]\n",
      "\n",
      "[[1 2 3]]\n"
     ]
    }
   ],
   "source": [
    "print(B[0, 0, :].reshape((1, 1, -1)))\n",
    "print()\n",
    "for row in B[0, 0, :].reshape((1, 1, -1)):\n",
    "    print(row)"
   ]
  },
  {
   "cell_type": "markdown",
   "metadata": {},
   "source": [
    "You can iterate through the elements themselves."
   ]
  },
  {
   "cell_type": "code",
   "execution_count": 55,
   "metadata": {},
   "outputs": [
    {
     "name": "stdout",
     "output_type": "stream",
     "text": [
      "1\n",
      "2\n",
      "3\n",
      "4\n",
      "5\n",
      "6\n"
     ]
    }
   ],
   "source": [
    "for a in B.flat:\n",
    "    print(a)"
   ]
  },
  {
   "cell_type": "markdown",
   "metadata": {},
   "source": [
    "### Broadcasting\n",
    "One can calculate with uneven shaped arrays if their shapes satisfy certain requirements.\n",
    "\n",
    "For example a $1\\times 1$ array can be multiplied with matrices, just like a scalars times a matrix."
   ]
  },
  {
   "cell_type": "code",
   "execution_count": 59,
   "metadata": {},
   "outputs": [
    {
     "name": "stdout",
     "output_type": "stream",
     "text": [
      "[[ 2.]]\n"
     ]
    },
    {
     "data": {
      "text/plain": [
       "array([[  2.,   4.,   6.],\n",
       "       [  8.,  10.,  12.]])"
      ]
     },
     "execution_count": 59,
     "metadata": {},
     "output_type": "execute_result"
    }
   ],
   "source": [
    "s = 2.0 * numpy.ones((1,1))\n",
    "print(s)\n",
    "s*A"
   ]
  },
  {
   "cell_type": "markdown",
   "metadata": {},
   "source": [
    "Also, you can multiply a one-length vector to a matrix, or a zero dimensional array (scalar) to any dimensional array."
   ]
  },
  {
   "cell_type": "code",
   "execution_count": 60,
   "metadata": {},
   "outputs": [
    {
     "ename": "ValueError",
     "evalue": "operands could not be broadcast together with shapes (2,3) (3,2) ",
     "output_type": "error",
     "traceback": [
      "\u001b[1;31m---------------------------------------------------------------------------\u001b[0m",
      "\u001b[1;31mValueError\u001b[0m                                Traceback (most recent call last)",
      "\u001b[1;32m<ipython-input-60-da5f07996b01>\u001b[0m in \u001b[0;36m<module>\u001b[1;34m()\u001b[0m\n\u001b[1;32m----> 1\u001b[1;33m \u001b[0mnumpy\u001b[0m\u001b[1;33m.\u001b[0m\u001b[0mones\u001b[0m\u001b[1;33m(\u001b[0m\u001b[1;33m(\u001b[0m\u001b[1;36m2\u001b[0m\u001b[1;33m,\u001b[0m\u001b[1;36m3\u001b[0m\u001b[1;33m)\u001b[0m\u001b[1;33m)\u001b[0m \u001b[1;33m+\u001b[0m \u001b[0mnumpy\u001b[0m\u001b[1;33m.\u001b[0m\u001b[0mones\u001b[0m\u001b[1;33m(\u001b[0m\u001b[1;33m(\u001b[0m\u001b[1;36m3\u001b[0m\u001b[1;33m,\u001b[0m\u001b[1;36m2\u001b[0m\u001b[1;33m)\u001b[0m\u001b[1;33m)\u001b[0m\u001b[1;33m\u001b[0m\u001b[0m\n\u001b[0m",
      "\u001b[1;31mValueError\u001b[0m: operands could not be broadcast together with shapes (2,3) (3,2) "
     ]
    }
   ],
   "source": [
    "numpy.ones((2,3)) + numpy.ones((3,2))"
   ]
  },
  {
   "cell_type": "markdown",
   "metadata": {},
   "source": [
    "This behavior is defined via _broadcasting_. If an array array has a dimension of length one, then it can be _broadcasted_, which means that it can span as much as the operation requires (operation other than indexing)."
   ]
  },
  {
   "cell_type": "code",
   "execution_count": 67,
   "metadata": {},
   "outputs": [
    {
     "name": "stdout",
     "output_type": "stream",
     "text": [
      "[[0 1 2]]\n",
      "[[ 1.  2.  3.]\n",
      " [ 1.  2.  3.]\n",
      " [ 1.  2.  3.]]\n",
      "[[ 1.  1.  1.]\n",
      " [ 2.  2.  2.]\n",
      " [ 3.  3.  3.]]\n"
     ]
    }
   ],
   "source": [
    "print(numpy.arange(3).reshape((1,3)))\n",
    "print(numpy.arange(3).reshape((1,3)) + numpy.ones((3,3)))\n",
    "print(numpy.arange(3).reshape((3,1)) + numpy.ones((3,3)))"
   ]
  },
  {
   "cell_type": "markdown",
   "metadata": {},
   "source": [
    "More than one dimension can be broadcasted at a time."
   ]
  },
  {
   "cell_type": "code",
   "execution_count": 70,
   "metadata": {},
   "outputs": [
    {
     "name": "stdout",
     "output_type": "stream",
     "text": [
      "[[[ 1.  1.  1.]\n",
      "  [ 2.  2.  2.]\n",
      "  [ 3.  3.  3.]]\n",
      "\n",
      " [[ 1.  1.  1.]\n",
      "  [ 2.  2.  2.]\n",
      "  [ 3.  3.  3.]]\n",
      "\n",
      " [[ 1.  1.  1.]\n",
      "  [ 2.  2.  2.]\n",
      "  [ 3.  3.  3.]]]\n"
     ]
    }
   ],
   "source": [
    "print(numpy.arange(3).reshape((1,3,1)) + numpy.ones((3,3,3)))"
   ]
  },
  {
   "cell_type": "markdown",
   "metadata": {},
   "source": [
    "#### Theory\n",
    "\n",
    "Let's say that an array has a shape `(1, 3, 1)`, which means that it can be broadcasted in the first and third dimension.\n",
    "Then the index triple `[x, y, z]` accesses its elements as `[0, y, 0]`. In one word, broadcasted dimensions are omitted in indexing.\n",
    "\n",
    "One can broadcast non-existent dimensions, like a one-dimensional array (vector) can be broadcasted together with a three dimensional array.\n",
    "\n",
    "In terms of shapes: `(k,) + (i, j, k)` means that a vector plus a three dimensional array (of size i-by-j-by-k). The index `[i, j, k]` of the broadcasted vector degrades to `[k]`.\n",
    "\n",
    "Let's denote the broadcasted dimensions with `None` and the regular dimensions with their size. For example shapes `(2,) + (3, 2, 2)` results the broadcast `(None, None, 2) + (3, 2, 2)`. False dimensions are prepended at the front, or in the place of 1-length dimensions.\n",
    "\n",
    "<div align=center>`(2,) + (3, 2, 2) -> (None, None, 2) + (3, 2, 2) = (3, 2, 2)` <br>\n",
    "but<br>\n",
    "`(3,) + (3, 2, 2) -> (None, None, 3) + (3, 2, 2)`\n",
    "</div>\n",
    "and the latter is not compatible."
   ]
  },
  {
   "cell_type": "code",
   "execution_count": 68,
   "metadata": {},
   "outputs": [
    {
     "name": "stdout",
     "output_type": "stream",
     "text": [
      "WRONG\n",
      "(3, 2, 2)\n",
      "(3, 2, 2)\n"
     ]
    }
   ],
   "source": [
    "def test_broadcast(x, y):\n",
    "    try:\n",
    "        A = numpy.ones(x) + numpy.ones(y)\n",
    "    except:\n",
    "        return \"WRONG\"\n",
    "    return A.shape\n",
    "\n",
    "print(test_broadcast((3), (3,2,2)))\n",
    "print(test_broadcast((2), (3,2,2)))\n",
    "print(test_broadcast((3,1,1), (3,2,2)))"
   ]
  },
  {
   "cell_type": "markdown",
   "metadata": {},
   "source": [
    "You can force the broadcast if you allocate a dimension of length one at a certain dimension (via `reshape`) or explicitly with the keyword `None`."
   ]
  },
  {
   "cell_type": "code",
   "execution_count": 71,
   "metadata": {},
   "outputs": [
    {
     "data": {
      "text/plain": [
       "(3, 2, 2)"
      ]
     },
     "execution_count": 71,
     "metadata": {},
     "output_type": "execute_result"
    }
   ],
   "source": [
    "(numpy.ones(3)[:, None, None] + numpy.ones((3,2,2))).shape"
   ]
  },
  {
   "cell_type": "markdown",
   "metadata": {},
   "source": [
    "In shapes: `(3, None, None) + (3, 2, 2) = (3, 2, 2)`"
   ]
  },
  {
   "cell_type": "markdown",
   "metadata": {},
   "source": [
    "In the former examples:\n",
    "* `A1 = (1, 3) + (3, 3)` then the result can be expressed as `[i, j] = [0, j] + [i, j]` which means that the `[i, j]` index of the result is the sum of the `[0, j]` index of the first operand and the `[i, j]` index of the second operand.\n",
    "* `A2 = (3, 1) + (3, 3)` results ` [i, j] = [i, 0] + [i, j]`\n",
    "* and `A3 = (3,) + (3, 3)` results `[i, j] = [j] + [i, j]`"
   ]
  },
  {
   "cell_type": "markdown",
   "metadata": {},
   "source": [
    "#### Example\n",
    "One liner to produce a complex \"grid\"."
   ]
  },
  {
   "cell_type": "code",
   "execution_count": 72,
   "metadata": {},
   "outputs": [
    {
     "data": {
      "text/plain": [
       "array([[ 0.+0.j,  0.+1.j,  0.+2.j,  0.+3.j,  0.+4.j],\n",
       "       [ 1.+0.j,  1.+1.j,  1.+2.j,  1.+3.j,  1.+4.j],\n",
       "       [ 2.+0.j,  2.+1.j,  2.+2.j,  2.+3.j,  2.+4.j],\n",
       "       [ 3.+0.j,  3.+1.j,  3.+2.j,  3.+3.j,  3.+4.j],\n",
       "       [ 4.+0.j,  4.+1.j,  4.+2.j,  4.+3.j,  4.+4.j]])"
      ]
     },
     "execution_count": 72,
     "metadata": {},
     "output_type": "execute_result"
    }
   ],
   "source": [
    "numpy.arange(5)[:, None] + 1j*numpy.arange(5)[None, :]"
   ]
  },
  {
   "cell_type": "markdown",
   "metadata": {},
   "source": [
    "Due to the default behavior, a vector behaves as a row vector and acts row-wise on a matrix.\n",
    "\n",
    "`(n,) -> (None, n)`"
   ]
  },
  {
   "cell_type": "code",
   "execution_count": 73,
   "metadata": {},
   "outputs": [
    {
     "data": {
      "text/plain": [
       "array([[ 0.,  1.,  2.,  3.,  4.],\n",
       "       [ 0.,  1.,  2.,  3.,  4.],\n",
       "       [ 0.,  1.,  2.,  3.,  4.],\n",
       "       [ 0.,  1.,  2.,  3.,  4.],\n",
       "       [ 0.,  1.,  2.,  3.,  4.]])"
      ]
     },
     "execution_count": 73,
     "metadata": {},
     "output_type": "execute_result"
    }
   ],
   "source": [
    "numpy.arange(5) + numpy.zeros((5,5))"
   ]
  },
  {
   "cell_type": "markdown",
   "metadata": {},
   "source": [
    "This behavior does not apply to non-element-wise operations, like `dot` product."
   ]
  },
  {
   "cell_type": "markdown",
   "metadata": {},
   "source": [
    "### Reductions\n",
    "\n",
    "Sum over an axis"
   ]
  },
  {
   "cell_type": "code",
   "execution_count": 74,
   "metadata": {},
   "outputs": [
    {
     "name": "stdout",
     "output_type": "stream",
     "text": [
      "[[[ 0  1  2  3]\n",
      "  [ 4  5  6  7]\n",
      "  [ 8  9 10 11]]\n",
      "\n",
      " [[12 13 14 15]\n",
      "  [16 17 18 19]\n",
      "  [20 21 22 23]]]\n",
      "------------------\n",
      "[[12 14 16 18]\n",
      " [20 22 24 26]\n",
      " [28 30 32 34]]\n",
      "------------------\n",
      "[60 66 72 78]\n",
      "------------------\n",
      "276\n"
     ]
    }
   ],
   "source": [
    "Y = numpy.arange(24).reshape(2,3,4)\n",
    "print(Y)\n",
    "print(\"------------------\")\n",
    "print(Y.sum(axis=0))\n",
    "print(\"------------------\")\n",
    "print(Y.sum(axis=1).sum(0))\n",
    "print(\"------------------\")\n",
    "print(Y.sum())"
   ]
  },
  {
   "cell_type": "markdown",
   "metadata": {},
   "source": [
    "This is a vector dot product (element-wise product and then sum):"
   ]
  },
  {
   "cell_type": "code",
   "execution_count": 75,
   "metadata": {},
   "outputs": [
    {
     "data": {
      "text/plain": [
       "14"
      ]
     },
     "execution_count": 75,
     "metadata": {},
     "output_type": "execute_result"
    }
   ],
   "source": [
    "def my_vec_dot(x, y):\n",
    "    return (numpy.array(x)*numpy.array(y)).sum()\n",
    "\n",
    "my_vec_dot([1, 2, 3], [1, 2, 3])"
   ]
  },
  {
   "cell_type": "markdown",
   "metadata": {},
   "source": [
    "This is a matrix dot product:"
   ]
  },
  {
   "cell_type": "code",
   "execution_count": 76,
   "metadata": {},
   "outputs": [
    {
     "data": {
      "text/plain": [
       "array([[ 7, 10],\n",
       "       [15, 22]])"
      ]
     },
     "execution_count": 76,
     "metadata": {},
     "output_type": "execute_result"
    }
   ],
   "source": [
    "def my_mat_dot(x, y):\n",
    "    #            sum_j           x_{i, j,  -  }             y_{  - , j, k}\n",
    "    return numpy.sum(numpy.array(x)[:, :, None]*numpy.array(y)[None, :, :], axis=1)\n",
    "\n",
    "my_mat_dot([[1, 2], [3, 4]], [[1, 2], [3, 4]])"
   ]
  },
  {
   "cell_type": "markdown",
   "metadata": {
    "collapsed": true
   },
   "source": [
    "More about `ufunc`: https://docs.scipy.org/doc/numpy/reference/ufuncs.html"
   ]
  },
  {
   "cell_type": "markdown",
   "metadata": {},
   "source": [
    "### Random numbers\n",
    "`numpy.random.rand` Its arguments are the shape of the resulted random array of uniform $[0,1)$ elements. Its type is `float64`, you can cast it afterwards."
   ]
  },
  {
   "cell_type": "code",
   "execution_count": 77,
   "metadata": {},
   "outputs": [
    {
     "data": {
      "text/plain": [
       "array([[ 0.2285407 ,  0.00377831,  0.69540322],\n",
       "       [ 0.55448335,  0.17262603,  0.40753233]], dtype=float32)"
      ]
     },
     "execution_count": 77,
     "metadata": {},
     "output_type": "execute_result"
    }
   ],
   "source": [
    "numpy.random.rand(2,3).astype(\"float32\")"
   ]
  },
  {
   "cell_type": "markdown",
   "metadata": {},
   "source": [
    "Other distributions:"
   ]
  },
  {
   "cell_type": "code",
   "execution_count": 78,
   "metadata": {},
   "outputs": [
    {
     "data": {
      "text/plain": [
       "array([[ 1.03698901,  1.46911813],\n",
       "       [ 1.1074024 ,  1.41385613]])"
      ]
     },
     "execution_count": 78,
     "metadata": {},
     "output_type": "execute_result"
    }
   ],
   "source": [
    "numpy.random.uniform(1,2,(2,2))"
   ]
  },
  {
   "cell_type": "code",
   "execution_count": 79,
   "metadata": {},
   "outputs": [
    {
     "data": {
      "text/plain": [
       "array([-0.92130528, -0.71547789,  0.78792231, -2.56251015, -0.45566089,\n",
       "       -0.32359884,  0.14598562,  0.69475621,  0.16921362,  0.06647448])"
      ]
     },
     "execution_count": 79,
     "metadata": {},
     "output_type": "execute_result"
    }
   ],
   "source": [
    "numpy.random.standard_normal(10)"
   ]
  },
  {
   "cell_type": "code",
   "execution_count": 80,
   "metadata": {},
   "outputs": [
    {
     "data": {
      "text/plain": [
       "array([[-0.01595886,  0.94523974, -1.08179291,  0.93062126,  0.3135392 ,\n",
       "         0.29231639,  0.78570705, -0.82170913, -0.16213233, -0.15556317]])"
      ]
     },
     "execution_count": 80,
     "metadata": {},
     "output_type": "execute_result"
    }
   ],
   "source": [
    "numpy.random.normal(0, 1, size=(1,10))"
   ]
  },
  {
   "cell_type": "markdown",
   "metadata": {},
   "source": [
    "Descrete randoms:"
   ]
  },
  {
   "cell_type": "code",
   "execution_count": 81,
   "metadata": {},
   "outputs": [
    {
     "name": "stdout",
     "output_type": "stream",
     "text": [
      "['5' '6' '4' 'Q' '2']\n"
     ]
    }
   ],
   "source": [
    "print(numpy.random.choice([\"A\", \"2\", \"3\", \"4\", \"5\", \"6\", \"7\", \"8\", \"9\", \"10\", \"J\", \"Q\", \"K\"], 5, replace=False))"
   ]
  },
  {
   "cell_type": "markdown",
   "metadata": {},
   "source": [
    "`choice` accepts custom probabilities:"
   ]
  },
  {
   "cell_type": "code",
   "execution_count": 89,
   "metadata": {},
   "outputs": [
    {
     "data": {
      "text/plain": [
       "array([4, 3, 2, 6, 3, 4, 1, 6, 5, 6])"
      ]
     },
     "execution_count": 89,
     "metadata": {},
     "output_type": "execute_result"
    }
   ],
   "source": [
    "numpy.random.choice(range(1,7), 10, p=[0.1, 0.1, 0.1, 0.1, 0.1, 0.5])"
   ]
  },
  {
   "cell_type": "code",
   "execution_count": 94,
   "metadata": {},
   "outputs": [
    {
     "name": "stdout",
     "output_type": "stream",
     "text": [
      "['7' 'A' 'J' '3' '10' '5' '8' 'K' 'Q' '9' '2' '4' '6']\n"
     ]
    }
   ],
   "source": [
    "print(numpy.random.permutation([\"A\", \"2\", \"3\", \"4\", \"5\", \"6\", \"7\", \"8\", \"9\", \"10\", \"J\", \"Q\", \"K\"]))"
   ]
  },
  {
   "cell_type": "markdown",
   "metadata": {},
   "source": [
    "`permutation` permutes the first (outermost) dimension."
   ]
  },
  {
   "cell_type": "code",
   "execution_count": 113,
   "metadata": {},
   "outputs": [
    {
     "name": "stdout",
     "output_type": "stream",
     "text": [
      "[[0 1 2]\n",
      " [3 4 5]\n",
      " [6 7 8]]\n"
     ]
    }
   ],
   "source": [
    "print(numpy.random.permutation(numpy.arange(9).reshape((3, 3))))"
   ]
  },
  {
   "cell_type": "markdown",
   "metadata": {},
   "source": [
    "## Excersises\n",
    "### 1.\n",
    "Implemet softmax. Softmax is a vector-vector function such that\n",
    "$$\n",
    "x_i \\mapsto \\frac{\\exp(x_i)}{\\sum_{j=1}^n \\exp(x_j)}\n",
    "$$\n",
    "Avoid using for loops, use vectorization. The solution below is a _bad_ solution."
   ]
  },
  {
   "cell_type": "code",
   "execution_count": 115,
   "metadata": {},
   "outputs": [
    {
     "name": "stdout",
     "output_type": "stream",
     "text": [
      "[ 0.09003057  0.24472847  0.66524096]\n",
      "[ 0.09003057  0.24472847  0.66524096]\n"
     ]
    }
   ],
   "source": [
    "def softmax(X):\n",
    "    return numpy.array([numpy.exp(x)/sum(numpy.exp(y) for y in X) for x in X])\n",
    "\n",
    "def softmax2(X):\n",
    "    exp = numpy.exp(X)\n",
    "    return exp/exp.sum()\n",
    "\n",
    "print(softmax([-1,0,1]))\n",
    "print(softmax2([-1,0,1]))"
   ]
  },
  {
   "cell_type": "markdown",
   "metadata": {},
   "source": [
    "### 2.\n",
    "Write a function which has one parameter, a 2D array and it returns a vector of row-wise Euclidean norms of the input. Use `numpy` operations and vectorization, avoid `for` loops. The solution below is a _bad_ solution."
   ]
  },
  {
   "cell_type": "code",
   "execution_count": 125,
   "metadata": {},
   "outputs": [
    {
     "name": "stdout",
     "output_type": "stream",
     "text": [
      "[[ 0.  0.  0.]\n",
      " [ 1.  1.  1.]\n",
      " [ 2.  2.  2.]\n",
      " [ 3.  3.  3.]\n",
      " [ 4.  4.  4.]]\n",
      "\n",
      "[ 0.          1.73205081  3.46410162  5.19615242  6.92820323]\n",
      "[ 0.          1.73205081  3.46410162  5.19615242  6.92820323]\n",
      "\n",
      "[ 1.  1.  1.  1.]\n",
      "[ 1.  1.  1.  1.]\n"
     ]
    }
   ],
   "source": [
    "def rowwise_norm(X):\n",
    "    def my_dot(x, y):\n",
    "        result = 0.0\n",
    "        for i in range(len(x)):\n",
    "            result += x[i] * y[i]\n",
    "        return result\n",
    "    return numpy.array([numpy.sqrt(my_dot(x, x)) for x in X])\n",
    "\n",
    "def rowwise_norm2(X):\n",
    "    return numpy.sqrt(numpy.sum(numpy.square(X), axis=1))\n",
    "\n",
    "X = numpy.arange(5)[:, None]*numpy.ones((5, 3));\n",
    "print(X)\n",
    "print()\n",
    "print(rowwise_norm(X))\n",
    "print(rowwise_norm2(X))\n",
    "print()\n",
    "print(rowwise_norm([[1], [-1], [1], [-1]]))\n",
    "print(rowwise_norm2([[1], [-1], [1], [-1]]))"
   ]
  },
  {
   "cell_type": "markdown",
   "metadata": {},
   "source": [
    "### 3.\n",
    "Write a function which has one parameter, a positive integer $n$, and returns an $n\\times n$ array of $\\pm1$ values like a chessboard: $M_{i,j} = (-1)^{i+j}$.\n",
    "\n",
    "Use `numpy` operations, avoid `for` loops!"
   ]
  },
  {
   "cell_type": "code",
   "execution_count": 148,
   "metadata": {},
   "outputs": [
    {
     "name": "stdout",
     "output_type": "stream",
     "text": [
      "[[ 1 -1  1 -1  1 -1]\n",
      " [-1  1 -1  1 -1  1]\n",
      " [ 1 -1  1 -1  1 -1]\n",
      " [-1  1 -1  1 -1  1]\n",
      " [ 1 -1  1 -1  1 -1]\n",
      " [-1  1 -1  1 -1  1]]\n",
      "\n",
      "[[ 1 -1  1 -1  1 -1]\n",
      " [-1  1 -1  1 -1  1]\n",
      " [ 1 -1  1 -1  1 -1]\n",
      " [-1  1 -1  1 -1  1]\n",
      " [ 1 -1  1 -1  1 -1]\n",
      " [-1  1 -1  1 -1  1]]\n"
     ]
    }
   ],
   "source": [
    "def chessboard(n):\n",
    "    return numpy.array([[(-1)**(i + j) for j in range(n)] for i in range(n)])\n",
    "\n",
    "def chessboard2(n):\n",
    "    m = numpy.matrix((-1)**numpy.arange(n))\n",
    "    return m.T * m\n",
    "\n",
    "print(chessboard(6))\n",
    "print()\n",
    "print(chessboard2(6))"
   ]
  },
  {
   "cell_type": "markdown",
   "metadata": {},
   "source": [
    "### 4.*\n",
    "Write a function which numerically derivates a $\\mathbb{R}\\mapsto\\mathbb{R}$ function. Use the forward finite difference.\n",
    "\n",
    "The input is a 1D array of function values, and optionally a 1D vector of abscissa values. If not provided then the abscissa values are unit steps.\n",
    "\n",
    "The result is a 1D array with the length of one less than the input array.\n",
    "\n",
    "Use `numpy` operations instead of `for` loop in contrast to the solution below."
   ]
  },
  {
   "cell_type": "code",
   "execution_count": 164,
   "metadata": {},
   "outputs": [
    {
     "name": "stdout",
     "output_type": "stream",
     "text": [
      "[-9.75 -9.25 -8.75 -8.25 -7.75 -7.25 -6.75 -6.25 -5.75 -5.25 -4.75 -4.25\n",
      " -3.75 -3.25 -2.75 -2.25 -1.75 -1.25 -0.75 -0.25  0.25  0.75  1.25  1.75\n",
      "  2.25  2.75  3.25  3.75  4.25  4.75  5.25  5.75  6.25  6.75  7.25  7.75\n",
      "  8.25  8.75  9.25]\n",
      "\n",
      "[-9.75 -9.25 -8.75 -8.25 -7.75 -7.25 -6.75 -6.25 -5.75 -5.25 -4.75 -4.25\n",
      " -3.75 -3.25 -2.75 -2.25 -1.75 -1.25 -0.75 -0.25  0.25  0.75  1.25  1.75\n",
      "  2.25  2.75  3.25  3.75  4.25  4.75  5.25  5.75  6.25  6.75  7.25  7.75\n",
      "  8.25  8.75  9.25]\n"
     ]
    }
   ],
   "source": [
    "def derivate(f, x=None):\n",
    "    if x is None:\n",
    "        x = numpy.arange(len(f))\n",
    "    return numpy.array([(f[i+1] - f[i]) / (x[i+1] - x[i]) for i in range(len(x) - 1)])\n",
    "\n",
    "def derivate2(f, x=None):\n",
    "    if x is None:\n",
    "        x = numpy.arange(len(f))\n",
    "    return numpy.diff(f) / numpy.diff(x)\n",
    "\n",
    "print(derivate(numpy.arange(-10, 10, 0.5)**2))\n",
    "print()\n",
    "print(derivate2(numpy.arange(-10, 10, 0.5)**2))"
   ]
  },
  {
   "cell_type": "code",
   "execution_count": 163,
   "metadata": {},
   "outputs": [
    {
     "data": {
      "text/plain": [
       "[<matplotlib.lines.Line2D at 0x1a7f7db9710>]"
      ]
     },
     "execution_count": 163,
     "metadata": {},
     "output_type": "execute_result"
    },
    {
     "data": {
      "image/png": "[encoded data removed]",
      "text/plain": [
       "<matplotlib.figure.Figure at 0x1a7f7db9b38>"
      ]
     },
     "metadata": {},
     "output_type": "display_data"
    }
   ],
   "source": [
    "x = numpy.arange(-10, 10, 0.5)\n",
    "matplotlib.pyplot.plot(x, x**2)\n",
    "matplotlib.pyplot.plot(x[:-1], derivate(x**2, x))"
   ]
  },
  {
   "cell_type": "markdown",
   "metadata": {},
   "source": [
    "### 4. b)\n",
    "Make a random (1D) grid and use that as abscissa values!"
   ]
  },
  {
   "cell_type": "markdown",
   "metadata": {},
   "source": [
    "### 5.*\n",
    "Implement the [Horner's method](https://en.wikipedia.org/wiki/Horner%27s_method#Description_of_the_algorithm) for evaluating polynomials. The first input is a 1D array of numbers, the coefficients, from the constant coefficient to the highest order coefficent. The second input is the variable $x$ to subsitute. The function should work for all type of variables: numbers, arrays; the output should be the same type array as the input, containing the elementwise polynomial values."
   ]
  },
  {
   "cell_type": "code",
   "execution_count": null,
   "metadata": {
    "collapsed": true
   },
   "outputs": [],
   "source": [
    "def horner(C, x):\n",
    "    y = numpy.zeros_like(x)\n",
    "    # YOUR CODE COMES HERE\n",
    "    return y"
   ]
  },
  {
   "cell_type": "code",
   "execution_count": null,
   "metadata": {
    "collapsed": true
   },
   "outputs": [],
   "source": [
    "C = [2, 0, 1] # 2 + x^2\n",
    "print(horner(C, 3))\n",
    "print(horner(C, [3, 3]))\n",
    "print(horner(C, numpy.arange(9).reshape((3,3))))"
   ]
  },
  {
   "cell_type": "markdown",
   "metadata": {},
   "source": [
    "With a slight modofication, you can implement [matrix polinomials](https://en.wikipedia.org/wiki/Matrix_polynomial)!"
   ]
  },
  {
   "cell_type": "markdown",
   "metadata": {
    "collapsed": true
   },
   "source": [
    "### 6.*\n",
    "Plot the $z\\mapsto \\exp(z)$ complex function on $[-2, 2]\\times i [-2, 2]$. Use `matplotlib.pyplot.imshow` and the red and green color channgels for real and imaginary parts."
   ]
  }
 ],
 "metadata": {
  "kernelspec": {
   "display_name": "Python 3",
   "language": "python",
   "name": "python3"
  },
  "language_info": {
   "codemirror_mode": {
    "name": "ipython",
    "version": 3
   },
   "file_extension": ".py",
   "mimetype": "text/x-python",
   "name": "python",
   "nbconvert_exporter": "python",
   "pygments_lexer": "ipython3",
   "version": "3.6.1"
  }
 },
 "nbformat": 4,
 "nbformat_minor": 2
}
