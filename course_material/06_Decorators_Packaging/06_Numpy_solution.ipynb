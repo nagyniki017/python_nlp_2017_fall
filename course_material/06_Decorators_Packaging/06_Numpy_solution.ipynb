{
 "cells": [
  {
   "cell_type": "code",
   "execution_count": null,
   "metadata": {
    "collapsed": true,
    "scrolled": true
   },
   "outputs": [],
   "source": [
    "import numpy\n",
    "%matplotlib inline\n",
    "import matplotlib.pyplot"
   ]
  },
  {
   "cell_type": "markdown",
   "metadata": {},
   "source": [
    "## Excersises\n",
    "### 1.\n",
    "Implemet softmax. Softmax is a vector-vector function such that\n",
    "$$\n",
    "x_i \\mapsto \\frac{\\exp(x_i)}{\\sum_{j=1}^n \\exp(x_j)}\n",
    "$$\n",
    "Avoid using for loops, use vectorization. The solution below is a _bad_ solution."
   ]
  },
  {
   "cell_type": "code",
   "execution_count": null,
   "metadata": {
    "scrolled": true
   },
   "outputs": [],
   "source": [
    "def softmax(X):\n",
    "    X = numpy.array(X)\n",
    "    Y = numpy.exp(X)\n",
    "    return Y/Y.sum()\n",
    "print(softmax([-1,0,1]))"
   ]
  },
  {
   "cell_type": "markdown",
   "metadata": {},
   "source": [
    "### 2.\n",
    "Write a function which has one parameter, a 2D array and it returns a vector of row-wise Euclidean norms of the input. Use `numpy` operations and vectorization, avoid `for` loops. The solution below is a _bad_ solution."
   ]
  },
  {
   "cell_type": "code",
   "execution_count": null,
   "metadata": {
    "scrolled": true
   },
   "outputs": [],
   "source": [
    "def rowwise_norm(X):\n",
    "    XX = numpy.array(X)**2\n",
    "    return numpy.sqrt(XX.sum(1))\n",
    "\n",
    "X = numpy.arange(5)[:, None]*numpy.ones((5, 3));\n",
    "print(X)\n",
    "print(rowwise_norm(X))\n",
    "print(rowwise_norm([[1], [-1], [1], [-1]]))"
   ]
  },
  {
   "cell_type": "markdown",
   "metadata": {},
   "source": [
    "### 3.\n",
    "Write a function which has one parameter, a positive integer $n$, and returns an $n\\times n$ array of $\\pm1$ values like a chessboard: $M_{i,j} = (-1)^{i+j}$.\n",
    "\n",
    "Use `numpy` operations, avoid `for` loops!"
   ]
  },
  {
   "cell_type": "markdown",
   "metadata": {},
   "source": [
    "First just a vector of laternating minus ones and ones."
   ]
  },
  {
   "cell_type": "code",
   "execution_count": null,
   "metadata": {
    "scrolled": true
   },
   "outputs": [],
   "source": [
    "print((numpy.arange(5) % 2) * 2 - 1)\n",
    "print(\"or\")\n",
    "print((-1)**numpy.arange(5))\n",
    "print(\"rather\")\n",
    "print(-(-1)**numpy.arange(5))"
   ]
  },
  {
   "cell_type": "code",
   "execution_count": null,
   "metadata": {
    "scrolled": true
   },
   "outputs": [],
   "source": [
    "def chessboard(n):\n",
    "    a = -(-1)**numpy.arange(n)\n",
    "    return a.reshape((-1, 1)) * a.reshape((1, -1))\n",
    "    return a[:, None] * a[None, :] # the same like above, just shorter\n",
    "\n",
    "print(chessboard(5))"
   ]
  },
  {
   "cell_type": "markdown",
   "metadata": {},
   "source": [
    "### 4.*\n",
    "Write a function which numerically derivates a $\\mathbb{R}\\mapsto\\mathbb{R}$ function. Use the forward finite difference.\n",
    "\n",
    "The input is a 1D array of function values, and optionally a 1D vector of abscissa values. If not provided then the abscissa values are unit steps.\n",
    "\n",
    "The result is a 1D array with the length of one less than the input array.\n",
    "\n",
    "Use `numpy` operations instead of `for` loop in contrast to the solution below."
   ]
  },
  {
   "cell_type": "code",
   "execution_count": null,
   "metadata": {
    "scrolled": true
   },
   "outputs": [],
   "source": [
    "def derivate(f, x=None):\n",
    "    if x is None:\n",
    "        x = numpy.arange(len(f))\n",
    "\n",
    "    df = f[:-1] - f[1:] # vector of differences of y values\n",
    "    dx = x[:-1] - x[1:] # vector of differences of x (abscissa) values\n",
    "    return df/dx\n",
    "\n",
    "print(derivate(numpy.arange(10)**2))"
   ]
  },
  {
   "cell_type": "code",
   "execution_count": null,
   "metadata": {
    "scrolled": true
   },
   "outputs": [],
   "source": [
    "x=numpy.arange(0,1,0.1)\n",
    "matplotlib.pyplot.plot(x, x**2)\n",
    "matplotlib.pyplot.plot(x[:-1], derivate(x**2, x))"
   ]
  },
  {
   "cell_type": "markdown",
   "metadata": {},
   "source": [
    "### 4. b)\n",
    "Make a random (1D) grid and use that as abscissa values!"
   ]
  },
  {
   "cell_type": "code",
   "execution_count": null,
   "metadata": {
    "scrolled": true
   },
   "outputs": [],
   "source": [
    "x = numpy.sort(numpy.random.rand(100))\n",
    "x = numpy.concatenate([[0], x, [1]]) # the grid contains 0, a hundered random numbers, and 1 in an increasing order\n",
    "f = x**2\n",
    "matplotlib.pyplot.plot(x, f)\n",
    "matplotlib.pyplot.plot(x[:-1], derivate(f, x))"
   ]
  },
  {
   "cell_type": "markdown",
   "metadata": {},
   "source": [
    "### 5.*\n",
    "Implement the [Horner's method](https://en.wikipedia.org/wiki/Horner%27s_method#Description_of_the_algorithm) for evaluating polynomials. The first input is a 1D array of numbers, the coefficients, from the constant coefficient to the highest order coefficent. The second input is the variable $x$ to subsitute. The function should work for all type of variables: numbers, arrays; the output should be the same type array as the input, containing the elementwise polynomial values."
   ]
  },
  {
   "cell_type": "code",
   "execution_count": null,
   "metadata": {
    "collapsed": true,
    "scrolled": true
   },
   "outputs": [],
   "source": [
    "def horner(C, x):\n",
    "    y = numpy.zeros_like(x)\n",
    "    for c in C[::-1]:\n",
    "        y = y*x + c\n",
    "    return y"
   ]
  },
  {
   "cell_type": "code",
   "execution_count": null,
   "metadata": {
    "scrolled": true
   },
   "outputs": [],
   "source": [
    "C = [2, 0, 1] # 2 + 0*x + 1*x^2\n",
    "print(horner(C, 3)) # 2 + 3^2\n",
    "print(horner(C, [3, 3]))\n",
    "print(horner(C, numpy.arange(9).reshape((3,3))))"
   ]
  },
  {
   "cell_type": "markdown",
   "metadata": {},
   "source": [
    "With a slight modofication, you can implement [matrix polinomials](https://en.wikipedia.org/wiki/Matrix_polynomial)!"
   ]
  },
  {
   "cell_type": "code",
   "execution_count": null,
   "metadata": {
    "collapsed": true,
    "scrolled": true
   },
   "outputs": [],
   "source": [
    "def matrix_horner(C, x):\n",
    "    assert(len(x.shape) == 2) # matrices\n",
    "    assert(x.shape[0] == x.shape[1]) # square matrices\n",
    "    eye = numpy.eye(x.shape[0], dtype=x.dtype)\n",
    "    \n",
    "    y = numpy.zeros_like(x)\n",
    "    for c in C[::-1]:\n",
    "        y = y.dot(x) + c*eye\n",
    "    return y"
   ]
  },
  {
   "cell_type": "code",
   "execution_count": null,
   "metadata": {
    "scrolled": true
   },
   "outputs": [],
   "source": [
    "C = [2, 0, 1] # 2 + 0*x + 1*x^2\n",
    "M = numpy.arange(9).reshape((3,3))\n",
    "print(M)\n",
    "print()\n",
    "print(M.dot(M))\n",
    "print()\n",
    "print(2*numpy.eye(3) + M.dot(M))\n",
    "print(matrix_horner(C, M))"
   ]
  },
  {
   "cell_type": "markdown",
   "metadata": {
    "collapsed": true
   },
   "source": [
    "### 6.*\n",
    "Plot the $z\\mapsto \\exp(z)$ complex function on $[-2, 2]\\times i [-2, 2]$. Use `matplotlib.pyplot.imshow` and the red and green color channgels for real and imaginary parts."
   ]
  },
  {
   "cell_type": "code",
   "execution_count": null,
   "metadata": {
    "scrolled": true
   },
   "outputs": [],
   "source": [
    "z = -1j*numpy.linspace(-2,2,100)[:, None] + numpy.linspace(-2,2,100)[None, :] # complex grid\n",
    "expz = numpy.exp(z) # function values\n",
    "\n",
    "real_part = expz.real\n",
    "imag_part = expz.imag\n",
    "\n",
    "# for scaling to [0,1]\n",
    "max_real = real_part.max()\n",
    "min_real = real_part.min()\n",
    "max_imag = imag_part.max()\n",
    "min_imag = imag_part.min()\n",
    "\n",
    "# RGB\n",
    "colors = numpy.stack([\n",
    "                        (real_part - min_real) / (max_real - min_real),\n",
    "                        (imag_part - min_imag) / (max_imag - min_imag),\n",
    "                        numpy.zeros_like(real_part)\n",
    "                    ], axis=2)\n",
    "# plotting\n",
    "matplotlib.pyplot.imshow(colors)"
   ]
  },
  {
   "cell_type": "code",
   "execution_count": null,
   "metadata": {
    "collapsed": true,
    "scrolled": true
   },
   "outputs": [],
   "source": []
  }
 ],
 "metadata": {
  "kernelspec": {
   "display_name": "Python [default]",
   "language": "python",
   "name": "python3"
  },
  "language_info": {
   "codemirror_mode": {
    "name": "ipython",
    "version": 3
   },
   "file_extension": ".py",
   "mimetype": "text/x-python",
   "name": "python",
   "nbconvert_exporter": "python",
   "pygments_lexer": "ipython3",
   "version": "3.5.3"
  }
 },
 "nbformat": 4,
 "nbformat_minor": 2
}
