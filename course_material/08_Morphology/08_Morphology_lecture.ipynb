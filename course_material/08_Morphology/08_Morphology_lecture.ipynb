{
 "cells": [
  {
   "cell_type": "markdown",
   "metadata": {
    "deletable": true,
    "editable": true,
    "slideshow": {
     "slide_type": "slide"
    }
   },
   "source": [
    "# Introduction to Python and Natural Language Technologies\n",
    "\n",
    "## Morphology\n",
    "\n",
    "## Lecture 08\n",
    "\n",
    "25 October 2017"
   ]
  },
  {
   "cell_type": "markdown",
   "metadata": {
    "deletable": true,
    "editable": true,
    "slideshow": {
     "slide_type": "notes"
    }
   },
   "source": [
    "### 8.1 [What is morphology?](#8.what)\n",
    "### 8.2 [Morphological phenomena](#8.phenom)\n",
    "### 8.3 [Computational morphology](#8.cm)\n",
    "### 8.4 [Finite state](#8.fs)\n",
    "### 8.5 [FSTs as morphological analysers](#8.parsing)\n",
    "### 8.6 [Related tasks](#8.related)"
   ]
  },
  {
   "cell_type": "markdown",
   "metadata": {
    "deletable": true,
    "editable": true,
    "slideshow": {
     "slide_type": "slide"
    }
   },
   "source": [
    "## 8.1 What is morphology?\n",
    "<a id='8.what'></a>"
   ]
  },
  {
   "cell_type": "markdown",
   "metadata": {
    "deletable": true,
    "editable": true,
    "slideshow": {
     "slide_type": "fragment"
    }
   },
   "source": [
    "From Ancient Greek: \"the study of forms\"\n",
    "- μορφή (morphé): form, shape\n",
    "- λόγος (lógos): word, study"
   ]
  },
  {
   "cell_type": "markdown",
   "metadata": {
    "deletable": true,
    "editable": true,
    "slideshow": {
     "slide_type": "fragment"
    }
   },
   "source": [
    "Has a different meaning in different fields:\n",
    "- Astronomy: variations of stars and galaxies\n",
    "- Biology: form and structure of organisms\n",
    "- Geology: the formation of landscapes\n",
    "- **Linguistics**: composition and structure of words"
   ]
  },
  {
   "cell_type": "markdown",
   "metadata": {
    "deletable": true,
    "editable": true,
    "slideshow": {
     "slide_type": "slide"
    }
   },
   "source": [
    "### What does it do?"
   ]
  },
  {
   "cell_type": "markdown",
   "metadata": {
    "deletable": true,
    "editable": true,
    "slideshow": {
     "slide_type": "fragment"
    }
   },
   "source": [
    "Morphology is the study of how words are formed in terms of the minimal meaning-bearing unit: **morphemes**."
   ]
  },
  {
   "cell_type": "markdown",
   "metadata": {
    "deletable": true,
    "editable": true,
    "slideshow": {
     "slide_type": "fragment"
    }
   },
   "source": [
    "<style type=\"text/css\">\n",
    "table, th, td {\n",
    "    border: none;\n",
    "    border-collapse: collapse;\n",
    "}\n",
    ".noBorder {\n",
    "    border:none !important;\n",
    "}\n",
    "</style>\n",
    "\n",
    "<table class=\"noBorder\" border=0>\n",
    "<tr><td><strong>Parse / features</strong></td><td><tt>space[/N]</tt></td><td><tt>ship[/N]</tt></td><td><tt>tok[Poss.2Pl]</tt></td><td><tt>ból[Ela]</tt></td></tr>\n",
    "<tr><td><strong>Surface form</strong></td><td><em>űr</em></td>       <td><em>+hajó</em></td>   <td><em>+tok</em></td>      <td><em>+ból</em></td></tr>\n",
    "<tr><td><strong>Translation</strong></td><td colspan=3>\"from your spaceship\"<td></tr>\n",
    "</table>"
   ]
  },
  {
   "cell_type": "markdown",
   "metadata": {
    "collapsed": true,
    "deletable": true,
    "editable": true,
    "slideshow": {
     "slide_type": "notes"
    }
   },
   "source": [
    "https://github.com/jupyter/notebook/issues/534"
   ]
  },
  {
   "cell_type": "markdown",
   "metadata": {
    "deletable": true,
    "editable": true,
    "slideshow": {
     "slide_type": "fragment"
    }
   },
   "source": [
    "Meanings of the morphemes:\n",
    "- `[/N]`: noun\n",
    "- `[Poss.2Pl]`: possessive 2nd person plural (_your_)\n",
    "- `[Ela]`: elassive case (_from_)"
   ]
  },
  {
   "cell_type": "markdown",
   "metadata": {
    "deletable": true,
    "editable": true,
    "slideshow": {
     "slide_type": "slide"
    }
   },
   "source": [
    "The strings next to the morphemes (`[/N]`, `[Poss.2Pl]` and `[Ela]`) are called _tags_ or _features_\n",
    "- They signify the syntactic role of the morpheme\n",
    "- This is the _Universal Dependency_ tagset\n",
    "- Obsolete tagsets for Hungarian: KR, MSD"
   ]
  },
  {
   "cell_type": "markdown",
   "metadata": {
    "deletable": true,
    "editable": true,
    "slideshow": {
     "slide_type": "fragment"
    }
   },
   "source": [
    "Computational morphology usually works in both ways:\n",
    "- **Analysis**: parses a surface form to morphological features\n",
    "- **Generation**: given a list of features, reproduce the surface form"
   ]
  },
  {
   "cell_type": "markdown",
   "metadata": {
    "deletable": true,
    "editable": true,
    "slideshow": {
     "slide_type": "slide"
    }
   },
   "source": [
    "### Why do we need it?"
   ]
  },
  {
   "cell_type": "markdown",
   "metadata": {
    "deletable": true,
    "editable": true,
    "slideshow": {
     "slide_type": "fragment"
    }
   },
   "source": [
    "Several tasks require it:\n",
    "- spell checking\n",
    "- lemmatization\n",
    "- information retrieval (IR):\n",
    "    - singular and plural nouns: _finite state automaton_ / _automata_\n",
    "    - word forms: _minimize automata_ / _automata minimization_"
   ]
  },
  {
   "cell_type": "markdown",
   "metadata": {
    "deletable": true,
    "editable": true,
    "slideshow": {
     "slide_type": "fragment"
    }
   },
   "source": [
    "Morphology serves as the first level in linguistic pipelines:\n",
    "- Syntax: parsers need to know the part-of-speech (and more)\n",
    "- Semantics: a large part of the meaning is contained in the words\n",
    "- Features for tasks:\n",
    "    - Named Entity Recognition (NER)\n",
    "    - Anaphora resolution\n",
    "    - etc."
   ]
  },
  {
   "cell_type": "markdown",
   "metadata": {
    "deletable": true,
    "editable": true,
    "slideshow": {
     "slide_type": "slide"
    }
   },
   "source": [
    "### Isn't a list enough?"
   ]
  },
  {
   "cell_type": "markdown",
   "metadata": {
    "deletable": true,
    "editable": true,
    "slideshow": {
     "slide_type": "fragment"
    }
   },
   "source": [
    "One might ask if a single list of all word forms is not enough\n",
    "- for spell checking: a list of correct word forms\n",
    "- in the sequence tagging example, we did not use morphology\n",
    "- a usual practice in language modeling, speech recognition\n",
    "- a list of a few hundred thousands / million elements is cheap"
   ]
  },
  {
   "cell_type": "markdown",
   "metadata": {
    "deletable": true,
    "editable": true,
    "slideshow": {
     "slide_type": "fragment"
    }
   },
   "source": [
    "Works well for English:\n",
    "- Nouns have only two forms: singular and plural\n",
    "- Verbs at most five (_-s_, _-ed_ {1,2}, _-ing_)"
   ]
  },
  {
   "cell_type": "markdown",
   "metadata": {
    "deletable": true,
    "editable": true,
    "slideshow": {
     "slide_type": "slide"
    }
   },
   "source": [
    "### No, it isn't"
   ]
  },
  {
   "cell_type": "markdown",
   "metadata": {
    "deletable": true,
    "editable": true,
    "slideshow": {
     "slide_type": "fragment"
    }
   },
   "source": [
    "The list method quickly breaks down:\n",
    "- Agglutinative languages have additive and branching inflection\n",
    "    - Hungarian nouns have about 700 forms\n",
    "    - Turkish verbs have 40,000 possible forms"
   ]
  },
  {
   "cell_type": "markdown",
   "metadata": {
    "deletable": true,
    "editable": true,
    "slideshow": {
     "slide_type": "fragment"
    }
   },
   "source": [
    "- Derivation is problematic even in English\n",
    "    - English: _-ize_ $\\rightarrow$ _-ization_\n",
    "    - Hungarian: _kelkáposztástalaníthatatlanságotoknak_"
   ]
  },
  {
   "cell_type": "markdown",
   "metadata": {
    "deletable": true,
    "editable": true,
    "slideshow": {
     "slide_type": "fragment"
    }
   },
   "source": [
    "- Complex morphologies"
   ]
  },
  {
   "cell_type": "markdown",
   "metadata": {
    "deletable": true,
    "editable": true,
    "slideshow": {
     "slide_type": "slide"
    }
   },
   "source": [
    "## 8.2 Morphological phenomena\n",
    "<a id='8.phenom'></a>"
   ]
  },
  {
   "cell_type": "markdown",
   "metadata": {
    "deletable": true,
    "editable": true,
    "slideshow": {
     "slide_type": "slide"
    }
   },
   "source": [
    "### Types of morphemes"
   ]
  },
  {
   "cell_type": "markdown",
   "metadata": {
    "deletable": true,
    "editable": true,
    "slideshow": {
     "slide_type": "fragment"
    }
   },
   "source": [
    "- **Free morphemes** can stand alone in the sentence.\n",
    "    - _root_ / _stem_ / _lemma_: the \"main\" morpheme (e.g. _quick_, _brown_, _fox_)\n",
    "- **Bound morphemes** only occur attached to a stem.\n",
    "    - _affixes_:\n",
    "        - _**meg**néz_ (looks $\\rightarrow$ takes a look)\n",
    "        - _small**est**_"
   ]
  },
  {
   "cell_type": "markdown",
   "metadata": {
    "deletable": true,
    "editable": true,
    "slideshow": {
     "slide_type": "fragment"
    }
   },
   "source": [
    "However, **tmesis** might occur:\n",
    "- _megnéz_ $\\rightarrow$ _nézd meg_ (take a look `[Subj.Def.2Sg]`)\n",
    "- _anfangen_ $\\rightarrow$ _Wann fängt es an?_ (when does it start?)"
   ]
  },
  {
   "cell_type": "markdown",
   "metadata": {
    "deletable": true,
    "editable": true,
    "slideshow": {
     "slide_type": "slide"
    }
   },
   "source": [
    "### Affix types"
   ]
  },
  {
   "cell_type": "markdown",
   "metadata": {
    "deletable": true,
    "editable": true,
    "slideshow": {
     "slide_type": "fragment"
    }
   },
   "source": [
    "- **derivational**: change part-of-speech or meaning of the word\n",
    "    - English _**un**prepared**ness**_; _computer**ize**_\n",
    "    - Hungarian: _kék**ség**_ (blue-**ness**), _fellel**hető**_ (**can be** found), _**fel**él_ (live $\\rightarrow$ exhaust)"
   ]
  },
  {
   "cell_type": "markdown",
   "metadata": {
    "deletable": true,
    "editable": true,
    "slideshow": {
     "slide_type": "fragment"
    }
   },
   "source": [
    "- **inflectional**: fill syntactic functions\n",
    "    - English _look**ed**_ (`[Pst]`); _sea**s**_ (`[Pl]`)\n",
    "    - Hungarian: _meglát**ta**_ (saw (it), `[Pst.Def.3Sg]`), _asztal**on**_ (on the table, `[Supe]`)"
   ]
  },
  {
   "cell_type": "markdown",
   "metadata": {
    "deletable": true,
    "editable": true,
    "slideshow": {
     "slide_type": "slide"
    }
   },
   "source": [
    "### Affix placement"
   ]
  },
  {
   "cell_type": "markdown",
   "metadata": {
    "deletable": true,
    "editable": true,
    "slideshow": {
     "slide_type": "fragment"
    }
   },
   "source": [
    "- **prefix**:\n",
    "    - English: _**extra**terrestrial_, _**dis**appear_\n",
    "    - Hungarian: _**elő**ír_ (**pre**scribe), _**át**megy_ (go $\\rightarrow$ cross something)"
   ]
  },
  {
   "cell_type": "markdown",
   "metadata": {
    "deletable": true,
    "editable": true,
    "slideshow": {
     "slide_type": "fragment"
    }
   },
   "source": [
    "- **suffix**:\n",
    "    - English: _listen**ing**_, _short**est**_\n",
    "    - Hungarian: _nagy**obb**_ (larg**er**), _sas**t**_ (eagle `[Acc]`)"
   ]
  },
  {
   "cell_type": "markdown",
   "metadata": {
    "deletable": true,
    "editable": true,
    "slideshow": {
     "slide_type": "slide"
    }
   },
   "source": [
    "### Affix placement"
   ]
  },
  {
   "cell_type": "markdown",
   "metadata": {
    "deletable": true,
    "editable": true,
    "slideshow": {
     "slide_type": "fragment"
    }
   },
   "source": [
    "- **circumfix**:\n",
    "    - Hungarian: _**leg**rövid**ebb**_ (short**est**)\n",
    "    - German: _**ge**hab**t**_ (have $\\rightarrow$ had)"
   ]
  },
  {
   "cell_type": "markdown",
   "metadata": {
    "deletable": true,
    "editable": true,
    "slideshow": {
     "slide_type": "fragment"
    }
   },
   "source": [
    "- **infix**:\n",
    "    - Tagalog: _h**um**ingi_ (**I** borrow)\n",
    "    - English: _abso**-fucking-**lutely_"
   ]
  },
  {
   "cell_type": "markdown",
   "metadata": {
    "deletable": true,
    "editable": true,
    "slideshow": {
     "slide_type": "slide"
    }
   },
   "source": [
    "### Other phenomena"
   ]
  },
  {
   "cell_type": "markdown",
   "metadata": {
    "deletable": true,
    "editable": true,
    "slideshow": {
     "slide_type": "fragment"
    }
   },
   "source": [
    "- **Compounds**: words (usually nouns) with more than one stem\n",
    "    - Hungarian: _űrhajó_ (_spaceship_), _zöldeskék_ (greenish blue, turquoise)\n",
    "    - German: _Rindfleischetikettierungsüberwachungsaufgabenübertragungsgesetz_ (the law concerning the delegation of duties for the supervision of cattle marking and the labelling of beef)"
   ]
  },
  {
   "cell_type": "markdown",
   "metadata": {
    "deletable": true,
    "editable": true,
    "slideshow": {
     "slide_type": "notes"
    }
   },
   "source": [
    "German example from https://www.theguardian.com/world/2013/jun/03/indfleischetikettierungsberwachungsaufgabenbertragungsgesetz-word-germany"
   ]
  },
  {
   "cell_type": "markdown",
   "metadata": {
    "deletable": true,
    "editable": true,
    "slideshow": {
     "slide_type": "fragment"
    }
   },
   "source": [
    "- **Clitics** are words reduced in form that are phonologically dependent on another word\n",
    "    - English: _we**'ll**_, _it**'s**_\n",
    "    - French: _**c'**est la vie_, _l'heure_"
   ]
  },
  {
   "cell_type": "markdown",
   "metadata": {
    "deletable": true,
    "editable": true,
    "slideshow": {
     "slide_type": "slide"
    }
   },
   "source": [
    "### Nonconcatenative morphology"
   ]
  },
  {
   "cell_type": "markdown",
   "metadata": {
    "deletable": true,
    "editable": true,
    "slideshow": {
     "slide_type": "fragment"
    }
   },
   "source": [
    "Grammatical / semantic changes are reflected by modifications to the stem rather than affixation."
   ]
  },
  {
   "cell_type": "markdown",
   "metadata": {
    "deletable": true,
    "editable": true,
    "slideshow": {
     "slide_type": "fragment"
    }
   },
   "source": [
    "- **Reduplication**: the stem (or part of it) is repeated\n",
    "    - Japanese plural (one type): 山々, _yama**yama**_ (mountain**s**)\n",
    "    - Tagalog: _lu**lu**tuin_ (**will** cook)\n",
    "    - Hungarian (?): _husi-musi_ (\"little meaty\"), _ici-pici_ (itsy-bitsy)"
   ]
  },
  {
   "cell_type": "markdown",
   "metadata": {
    "deletable": true,
    "editable": true,
    "slideshow": {
     "slide_type": "fragment"
    }
   },
   "source": [
    "- **Templatic**: a consonant template is filled with vowels.\n",
    "    - Arabic: `k-t-b` can become\n",
    "        - _kitāb_: book\n",
    "        - _kutub_: books\n",
    "        - _kātib_: writer\n",
    "        - ..."
   ]
  },
  {
   "cell_type": "markdown",
   "metadata": {
    "deletable": true,
    "editable": true,
    "slideshow": {
     "slide_type": "fragment"
    }
   },
   "source": [
    "- **Ablaut**: stem sounds change that confers grammatical information\n",
    "    - English: _foot_ $\\rightarrow$ _feet_, _run_ $\\rightarrow$ _ran_\n",
    "    - German: _sehen_ $\\rightarrow$ _s**ie**h**st**_ (see `[2Sg]`)"
   ]
  },
  {
   "cell_type": "markdown",
   "metadata": {
    "deletable": true,
    "editable": true,
    "slideshow": {
     "slide_type": "slide"
    }
   },
   "source": [
    "### Language types"
   ]
  },
  {
   "cell_type": "markdown",
   "metadata": {
    "deletable": true,
    "editable": true,
    "slideshow": {
     "slide_type": "fragment"
    }
   },
   "source": [
    "- Isolating languages: no inflection to speak of\n",
    "    - Mandarin Chinese"
   ]
  },
  {
   "cell_type": "markdown",
   "metadata": {
    "deletable": true,
    "editable": true,
    "slideshow": {
     "slide_type": "fragment"
    }
   },
   "source": [
    "- Analytic languages: some inflection, but prefers word order, adposition\n",
    "    - English, Vietnamese"
   ]
  },
  {
   "cell_type": "markdown",
   "metadata": {
    "deletable": true,
    "editable": true,
    "slideshow": {
     "slide_type": "fragment"
    }
   },
   "source": [
    "- Synthetic languages: inflected, high morpheme-per-word ratio\n",
    "    - Fusional: use a single suffix that encodes several grammatical functions\n",
    "        - Romance and Slavic languages\n",
    "    - Agglutinative: highly concatenative, separate \"slots\" for different grammatical functions\n",
    "        - Uralic languages, Basque, Japanese, Turkish\n",
    "    - Polysynthetic: \"sentence-words\"\n",
    "        - Indigenous languages of America, Australia; Inuit languages"
   ]
  },
  {
   "cell_type": "markdown",
   "metadata": {
    "deletable": true,
    "editable": true,
    "slideshow": {
     "slide_type": "fragment"
    }
   },
   "source": [
    "**Don't pay too much attention to this**:\n",
    "- no clear-cut boundaries\n",
    "- most languages have phenomena from several types"
   ]
  },
  {
   "cell_type": "markdown",
   "metadata": {
    "deletable": true,
    "editable": true,
    "slideshow": {
     "slide_type": "slide"
    }
   },
   "source": [
    "## 8.3 Computational Morphology\n",
    "<a id='8.cm'></a>"
   ]
  },
  {
   "cell_type": "markdown",
   "metadata": {
    "deletable": true,
    "editable": true,
    "slideshow": {
     "slide_type": "fragment"
    }
   },
   "source": [
    "The established view of morphology is that morphemes and their intra-word interactions can be formalized as **rules**. A morphological analyzer has the following three main components:\n",
    "- **Lexicon**: lists the morphemes with basic information (e.g. part of speech)\n",
    "- **Morphotactics**: specifies morpheme ordering and their interactions (usually on an abstract level)\n",
    "    - Hungarian nouns: _stem+ ... (plural) case_\n",
    "    - English: _sheep_ doesn't have a plural\n",
    "- **Orthographic/Phonetic rules**: model how the morphemes are mapped to letters / sounds\n",
    "    - English: _run + ing_ becomes _run**n**ing_\n",
    "    - Hungarian: _asztal + val_ (with the table) becomes _asztallal_"
   ]
  },
  {
   "cell_type": "markdown",
   "metadata": {
    "deletable": true,
    "editable": true,
    "slideshow": {
     "slide_type": "fragment"
    }
   },
   "source": [
    "These components are usually implemented with finite state methods: automata and transducers."
   ]
  },
  {
   "cell_type": "markdown",
   "metadata": {
    "deletable": true,
    "editable": true,
    "slideshow": {
     "slide_type": "slide"
    }
   },
   "source": [
    "### History\n",
    "- Pāṇini (around 500BC): Aṣṭādhyāyī, a sūtra of 3,959 verses, which includes the morphological description of Classical Sanskrit\n",
    "- Johnson (1972): models phonological rewrite rules as finite state transducers\n",
    "- Koskenniemi (1983): two-level rules\n",
    "- Karttunen et al. (1992): composed all components to a single transducer"
   ]
  },
  {
   "cell_type": "markdown",
   "metadata": {
    "deletable": true,
    "editable": true,
    "slideshow": {
     "slide_type": "notes"
    }
   },
   "source": [
    "Papers cited above:\n",
    "- Johnson, C. D. (1972). Formal aspects of phonological description. The Hague: Mouton.\n",
    "- Koskenniemi, K. (1983). Two-level morphology. A General Computational Model for Word-Form Recognition and Production. Department of General Linguistics. University of Helsinki, Finland.\n",
    "- Karttunen, L., Kaplan, R. M., & Zaenen, A. (1992, August). Two-level morphology with composition. In Proceedings of the 14th conference on Computational linguistics-Volume 1 (pp. 141-148). Association for Computational Linguistics."
   ]
  },
  {
   "cell_type": "markdown",
   "metadata": {
    "deletable": true,
    "editable": true,
    "slideshow": {
     "slide_type": "slide"
    }
   },
   "source": [
    "## Deep learning\n",
    "\n",
    "Most fields of NLP have become dominated by deep learning methods. However, computational morphology still uses the methods described above."
   ]
  },
  {
   "cell_type": "markdown",
   "metadata": {
    "deletable": true,
    "editable": true,
    "slideshow": {
     "slide_type": "fragment"
    }
   },
   "source": [
    "- Deep learning is slow. Morphology has to be fast\n",
    "- Neural networks are not good at learning hard constraints and associations\n",
    "- Words and the phenomena present in any language are arbitrary\n",
    "- Dictionaries and lexicographers have been available since antiquity"
   ]
  },
  {
   "cell_type": "markdown",
   "metadata": {
    "deletable": true,
    "editable": true,
    "slideshow": {
     "slide_type": "fragment"
    }
   },
   "source": [
    "Still, machine learning methods start to appear:\n",
    "- [Morfessor](https://github.com/aalto-speech/morfessor) (Virpioja et al, 2013): unsupervised and semi-supervised morphological segmentation\n",
    "- [Sigmorphon challenge](http://ryancotterell.github.io/sigmorphon2016/) (Cotterell et al. 2016): supervised morphological reinflection\n",
    "    - Winner: LMU system with 96% accuracy (Kann and Schütze, 2016)"
   ]
  },
  {
   "cell_type": "markdown",
   "metadata": {
    "deletable": true,
    "editable": true,
    "slideshow": {
     "slide_type": "notes"
    }
   },
   "source": [
    "Papers cited above:\n",
    "\n",
    "- Cotterell, R., Kirov, C., Sylak-Glassman, J., Yarowsky, D., Eisner, J., & Hulden, M. (2016, August). The SIGMORPHON 2016 shared task—morphological reinflection. In Proceedings of the 14th SIGMORPHON Workshop on Computational Research in Phonetics, Phonology, and Morphology (pp. 10-22).\n",
    "- Katharina Kann and Hinrich Schütze. 2016. MED: The LMU system for the SIGMORPHON 2016 shared task on morphological reinflection. In Proceedings of the 2016 Meeting of SIGMORPHON, Berlin, Germany. Association for Computational Linguistics.\n",
    "- Sami Virpioja, Peter Smit, Stig-Arne Grönroos, and Mikko Kurimo. Morfessor 2.0: Python Implementation and Extensions for Morfessor Baseline. Aalto University publication series SCIENCE + TECHNOLOGY, 25/2013. Aalto University, Helsinki, 2013. ISBN 978-952-60-5501-5."
   ]
  },
  {
   "cell_type": "markdown",
   "metadata": {
    "deletable": true,
    "editable": true,
    "slideshow": {
     "slide_type": "slide"
    }
   },
   "source": [
    "### Hungarian morphological analysers"
   ]
  },
  {
   "cell_type": "markdown",
   "metadata": {
    "deletable": true,
    "editable": true,
    "slideshow": {
     "slide_type": "fragment"
    }
   },
   "source": [
    "Historically, several systems have been created for Hungarian morphological analysis:\n",
    "- HuMor (Prószéky et al, 1999)\n",
    "- [Hunspell](http://hunspell.github.io/) (László Németh)\n",
    "- [Hunmorph](http://mokk.bme.hu/resources/hunmorph/) (Trón et al, 2005)\n",
    "- [Jmorph](https://sourceforge.net/projects/jhunlang/) (ibid.)"
   ]
  },
  {
   "cell_type": "markdown",
   "metadata": {
    "deletable": true,
    "editable": true,
    "slideshow": {
     "slide_type": "fragment"
    }
   },
   "source": [
    "The last two (or three) is backed by the lexical resource\n",
    "- [Morphdb.hu](mokk.bme.hu/resources/morphdb.hu) (Trón et al, 2006)"
   ]
  },
  {
   "cell_type": "markdown",
   "metadata": {
    "deletable": true,
    "editable": true,
    "slideshow": {
     "slide_type": "fragment"
    }
   },
   "source": [
    "These have been merged into and superceded by an HFST (foma)-based system, which is also integrated into the [e-magyar](http://e-magyar.hu/) toolchain.\n",
    "- [emMorph](https://github.com/dlt-rilmta/emMorph) (Novák, 2016)"
   ]
  },
  {
   "cell_type": "markdown",
   "metadata": {
    "deletable": true,
    "editable": true,
    "slideshow": {
     "slide_type": "notes"
    }
   },
   "source": [
    "Papers cited above:\n",
    "\n",
    "- Attila Novák; Borbála Siklósi; Csaba Oravecz (2016): A New Integrated Open-source Morphological Analyzer for Hungarian In: Proceedings of the Tenth International Conference on Language Resources and Evaluation (LREC 2016). Portorož, pp. 1315–1322.\n",
    "- Prószéky, G., Kis, B.: A unification-based approach to morpho-syntactic parsing of agglutinative and other (highly) inflectional languages. In: Proceedings of ACL ‘99. pp. 261–268. Association for Computational Linguistics, Stroudsburg, PA, USA (1999).\n",
    "- Trón, V., Németh, L., Halácsy, P., Kornai, A., Gyepesi, G., and Varga, D. (2005) \"Hunmorph: open source word analysis\". Proceedings of the ACL 2005 Workshop on Software. pp. 77--85\n",
    "- Trón, V., Halácsy, P., Rebrus, P., Rung, A., Vajda, P., Simon, E.: Morphdb.hu: Hungarian lexical database and morphological grammar. In: Proceedings of LREC 2006. pp. 1670–1673 (2006)"
   ]
  },
  {
   "cell_type": "markdown",
   "metadata": {
    "deletable": true,
    "editable": true,
    "slideshow": {
     "slide_type": "slide"
    }
   },
   "source": [
    "## 8.4 Finite state\n",
    "<a id='8.fs'></a>"
   ]
  },
  {
   "cell_type": "markdown",
   "metadata": {
    "deletable": true,
    "editable": true,
    "slideshow": {
     "slide_type": "fragment"
    }
   },
   "source": [
    "Two types of finite state machines are of interest:\n",
    "- **Finite state automaton (FSA)**: \n",
    "    - _internal state_: one from a finite set of possible states\n",
    "    - _input tape_\n",
    "    - reads the tape one symbol at a time and may move to a new state after each"
   ]
  },
  {
   "cell_type": "markdown",
   "metadata": {
    "deletable": true,
    "editable": true,
    "slideshow": {
     "slide_type": "fragment"
    }
   },
   "source": [
    "- **Finite state transducer (FST)**:\n",
    "    - FSA with an additional _output tape_\n",
    "    - outputs a symbol after each state transition"
   ]
  },
  {
   "cell_type": "markdown",
   "metadata": {
    "deletable": true,
    "editable": true,
    "slideshow": {
     "slide_type": "slide"
    }
   },
   "source": [
    "### Example\n",
    "\n",
    "An FSA that recognizes the names of three animals.\n",
    "\n",
    "![example FSA](media/fsa_example.png)"
   ]
  },
  {
   "cell_type": "markdown",
   "metadata": {
    "deletable": true,
    "editable": true,
    "slideshow": {
     "slide_type": "fragment"
    }
   },
   "source": [
    "Note how it is very similar to a trie: an ideal format for a lexicon."
   ]
  },
  {
   "cell_type": "markdown",
   "metadata": {
    "deletable": true,
    "editable": true,
    "slideshow": {
     "slide_type": "slide"
    }
   },
   "source": [
    "### Example\n",
    "\n",
    "An FST that also prints the sounds the animal makes.\n",
    "\n",
    "![example FST](media/fst_example.png)"
   ]
  },
  {
   "cell_type": "markdown",
   "metadata": {
    "deletable": true,
    "editable": true,
    "slideshow": {
     "slide_type": "slide"
    }
   },
   "source": [
    "### Mathematical description"
   ]
  },
  {
   "cell_type": "markdown",
   "metadata": {
    "deletable": true,
    "editable": true,
    "slideshow": {
     "slide_type": "fragment"
    }
   },
   "source": [
    "The mathematical model of a finite state automaton is a 5-tuple:\n",
    "- $Q$: the set of states\n",
    "- $\\Sigma$: the input alphabet\n",
    "- $q_0$: the initial state\n",
    "- $F \\subseteq Q$: the accepting states. The FSA **accepts** and input, if it stops here after reading the input.\n",
    "- $\\delta(q, w)$: the state transition function ($Q \\times \\Sigma \\times Q$)"
   ]
  },
  {
   "cell_type": "markdown",
   "metadata": {
    "deletable": true,
    "editable": true,
    "slideshow": {
     "slide_type": "fragment"
    }
   },
   "source": [
    "The model of an FST is a 6-tuple, with these changes:\n",
    "- $\\Gamma$: the output alphabet\n",
    "- $\\delta(q, w, w')$: the state transition function ($Q \\times \\Sigma \\times \\Gamma \\times Q$)"
   ]
  },
  {
   "cell_type": "markdown",
   "metadata": {
    "deletable": true,
    "editable": true,
    "slideshow": {
     "slide_type": "slide"
    }
   },
   "source": [
    "### Mathematical description"
   ]
  },
  {
   "cell_type": "markdown",
   "metadata": {
    "deletable": true,
    "editable": true,
    "slideshow": {
     "slide_type": "fragment"
    }
   },
   "source": [
    "The set of symbol sequences ($\\Sigma^*$) a machine accepts is its **language** ($\\mathcal{L}$). FSTs have input and output languages ($\\mathcal{L}$ and $\\mathcal{L'}$)."
   ]
  },
  {
   "cell_type": "markdown",
   "metadata": {
    "deletable": true,
    "editable": true,
    "slideshow": {
     "slide_type": "fragment"
    }
   },
   "source": [
    "Languages accepted by FSA are **regular languages**. FSTs implement **regular relation**s or **functions**."
   ]
  },
  {
   "cell_type": "markdown",
   "metadata": {
    "deletable": true,
    "editable": true,
    "slideshow": {
     "slide_type": "fragment"
    }
   },
   "source": [
    "- regular expressions also generate the regular languages\n",
    "- the two formalisms (FSA and `re`) are equivalent\n",
    "- some regular expression engines, e.g. `grep` are implemented as FSA"
   ]
  },
  {
   "cell_type": "markdown",
   "metadata": {
    "deletable": true,
    "editable": true,
    "slideshow": {
     "slide_type": "fragment"
    }
   },
   "source": [
    "Regular languages are memory-less, and therefore very limited:\n",
    "- the language $a^*b^*$ is regular, but $a^ib^i$ is not\n",
    "- these restrictions make FSA/FSTs simple and fast"
   ]
  },
  {
   "cell_type": "markdown",
   "metadata": {
    "deletable": true,
    "editable": true,
    "slideshow": {
     "slide_type": "notes"
    }
   },
   "source": [
    "We won't go into further details (_determinism_, _minimalism_, _closure properties_, etc). The interested reader is referred to textbooks on the subject, e.g.\n",
    "- Bach Iván: Formális nyelvek, TypoTex, 2001.\n",
    "- Rónyai Lajos, Ivanyos Gábor, Szabó Réka: Algoritmusok, TypoTex, 1999.\n",
    "- Michael Sipser: Introduction to the theory of computation, Thomson Course Techn., 2006.\n",
    "\n",
    "or the course [Languages and Automata](https://portal.vik.bme.hu/kepzes/targyak/VISZM104/en/) in this faculty."
   ]
  },
  {
   "cell_type": "markdown",
   "metadata": {
    "deletable": true,
    "editable": true,
    "slideshow": {
     "slide_type": "slide"
    }
   },
   "source": [
    "### Useful operations on FSTs"
   ]
  },
  {
   "cell_type": "markdown",
   "metadata": {
    "deletable": true,
    "editable": true,
    "slideshow": {
     "slide_type": "fragment"
    }
   },
   "source": [
    "**Inversion**\n",
    "- the direction of the transduction can be changed by swapping the input and output tapes\n",
    "- hence, we use the terms **upper** and **lower** (tape, alphabet, side, ...) instead of input and output\n",
    "- the FST can be used for both _analysis_ and _generation_"
   ]
  },
  {
   "cell_type": "markdown",
   "metadata": {
    "deletable": true,
    "editable": true,
    "slideshow": {
     "slide_type": "slide"
    }
   },
   "source": [
    "### Useful operations on FSTs"
   ]
  },
  {
   "cell_type": "markdown",
   "metadata": {
    "deletable": true,
    "editable": true,
    "slideshow": {
     "slide_type": "fragment"
    }
   },
   "source": [
    "**Composition**\n",
    "- FSTs can be used in cascade:\n",
    "    - $Lex$: Lexicon FSA\n",
    "    - $MT$: Morphotactics FST\n",
    "    - $Orto$: Ortography FST\n",
    "- Since they are relations (or functions), they can be composed into a single FST: $Morph = Lex \\circ MT \\circ Orto$\n",
    "- Caveat: the resulting transducer might be much larger than its parts"
   ]
  },
  {
   "cell_type": "markdown",
   "metadata": {
    "deletable": true,
    "editable": true,
    "slideshow": {
     "slide_type": "slide"
    }
   },
   "source": [
    "### Useful operations on FSTs"
   ]
  },
  {
   "cell_type": "markdown",
   "metadata": {
    "deletable": true,
    "editable": true,
    "slideshow": {
     "slide_type": "fragment"
    }
   },
   "source": [
    "**Projection**\n",
    "- The lower or upper language (and associated FSA) of a FST\n",
    "- In the example:\n",
    "    - lower projection: names of animals (_cat_, _cow_, _dog_)\n",
    "    - upper projection: animal sounds (_MEOW_, _MOO_, _WOOF_)"
   ]
  },
  {
   "cell_type": "markdown",
   "metadata": {
    "deletable": true,
    "editable": true,
    "slideshow": {
     "slide_type": "fragment"
    }
   },
   "source": [
    "![example FST](media/fst_example.png)"
   ]
  },
  {
   "cell_type": "markdown",
   "metadata": {
    "deletable": true,
    "editable": true,
    "slideshow": {
     "slide_type": "slide"
    }
   },
   "source": [
    "## 8.5 FSTs as morphological analysers\n",
    "<a id='8.parsing'></a>"
   ]
  },
  {
   "cell_type": "markdown",
   "metadata": {
    "deletable": true,
    "editable": true,
    "slideshow": {
     "slide_type": "fragment"
    }
   },
   "source": [
    "The three components of a morphological analyser can be implemented as FSA / FSTs:\n",
    "- $Lex$: Lexicon FSA / FST\n",
    "- $MT$: Morphotactics FST\n",
    "- $Orto$: Ortography FST"
   ]
  },
  {
   "cell_type": "markdown",
   "metadata": {
    "deletable": true,
    "editable": true,
    "slideshow": {
     "slide_type": "fragment"
    }
   },
   "source": [
    "These three can be used in cascade, or composed into a single morphological FST $Morph = Lex \\circ MT \\circ Orto$:\n",
    "- Lower side: surface form (string of characters)\n",
    "- Upper side: morpheme structure (characters (e.g. lemma) + morphological features)"
   ]
  },
  {
   "cell_type": "markdown",
   "metadata": {
    "deletable": true,
    "editable": true,
    "slideshow": {
     "slide_type": "slide"
    }
   },
   "source": [
    "### Analysis / generation"
   ]
  },
  {
   "cell_type": "markdown",
   "metadata": {
    "deletable": true,
    "editable": true,
    "slideshow": {
     "slide_type": "fragment"
    }
   },
   "source": [
    "Inversion allows the lexical FST $Morph$ to work in both directions.\n",
    "- Applied \"up\" (lower $\\rightarrow$ upper): analysis\n",
    "- Applied \"down\" (upper $\\rightarrow$ lower): generation"
   ]
  },
  {
   "cell_type": "markdown",
   "metadata": {
    "deletable": true,
    "editable": true,
    "slideshow": {
     "slide_type": "fragment"
    }
   },
   "source": [
    "Both directions can be ambiguous:\n",
    "- Up: a surface form can have multiple valid analyses\n",
    "    - Hungarian: _várnak_ $\\rightarrow$\n",
    "        - `vár[/N]nak[Dat]` (for/to the castle)\n",
    "        - `vár[/V]nak[Prs.NDef.3Pl]` (they are waiting)\n",
    "- Down: a morpheme might have multiple realizations\n",
    "    - Hungarian: _ül_ (sit) + `[2Sg]` imperative $\\rightarrow$ _ülj_ / _üljél_\n",
    "    - English: _fish_ + `[Pl]` $\\rightarrow$ _fish_ / _fishes_"
   ]
  },
  {
   "cell_type": "markdown",
   "metadata": {
    "deletable": true,
    "editable": true,
    "slideshow": {
     "slide_type": "notes"
    }
   },
   "source": [
    "Dative in Hungarian can also play a part in a possessive construct, e.g. _the tower of the castle_:\n",
    "- _a vár tornya_\n",
    "- _a vár**nak a** tornya_"
   ]
  },
  {
   "cell_type": "markdown",
   "metadata": {
    "deletable": true,
    "editable": true,
    "slideshow": {
     "slide_type": "fragment"
    }
   },
   "source": [
    "FSTs enumerate all candidates via backtracking."
   ]
  },
  {
   "cell_type": "markdown",
   "metadata": {
    "deletable": true,
    "editable": true,
    "slideshow": {
     "slide_type": "slide"
    }
   },
   "source": [
    "### Defining a transducer: XFST / foma"
   ]
  },
  {
   "cell_type": "markdown",
   "metadata": {
    "deletable": true,
    "editable": true,
    "slideshow": {
     "slide_type": "fragment"
    }
   },
   "source": [
    "**Xerox FST (XFST)** is a finite state toolkit developed by Xerox Research $-$ 1997\n",
    "- Geared towards morphological analysis\n",
    "- Several formalisms to define (lexical) FSTs\n",
    "- Proprietary and not free"
   ]
  },
  {
   "cell_type": "markdown",
   "metadata": {
    "deletable": true,
    "editable": true,
    "slideshow": {
     "slide_type": "fragment"
    }
   },
   "source": [
    "[**Foma**](https://fomafst.github.io/) is a reimplementation of XFST by Mans Hulden $-$ 2010\n",
    "- Free and open source\n",
    "- Not as fast as XFST and a might be a bit buggy"
   ]
  },
  {
   "cell_type": "markdown",
   "metadata": {
    "deletable": true,
    "editable": true,
    "slideshow": {
     "slide_type": "fragment"
    }
   },
   "source": [
    "[**Helsinki Finite State Technology (HFST)**](http://hfst.github.io/) $-$ 2009\n",
    "- Also FOSS\n",
    "- Supports weighted automata\n",
    "- Can use foma as its backend"
   ]
  },
  {
   "cell_type": "markdown",
   "metadata": {
    "deletable": true,
    "editable": true,
    "slideshow": {
     "slide_type": "slide"
    }
   },
   "source": [
    "### Defining a transducer: formalisms"
   ]
  },
  {
   "cell_type": "markdown",
   "metadata": {
    "deletable": true,
    "editable": true,
    "slideshow": {
     "slide_type": "fragment"
    }
   },
   "source": [
    "XFST / foma support two formalisms to define FSTs"
   ]
  },
  {
   "cell_type": "markdown",
   "metadata": {
    "deletable": true,
    "editable": true,
    "slideshow": {
     "slide_type": "fragment"
    }
   },
   "source": [
    "- Regular expressions\n",
    "    - Somewhat similar to REs in Python, but can also define transducers\n",
    "    - Good for defining morphotactic / orthographic rules\n",
    "    - Hard to read and not a good fit for defining a lexicon"
   ]
  },
  {
   "cell_type": "markdown",
   "metadata": {
    "deletable": true,
    "editable": true,
    "slideshow": {
     "slide_type": "fragment"
    }
   },
   "source": [
    "- Lexc\n",
    "    - Specifically designed for writing lexicons\n",
    "    - Aimed at lexicographers"
   ]
  },
  {
   "cell_type": "markdown",
   "metadata": {
    "deletable": true,
    "editable": true,
    "slideshow": {
     "slide_type": "fragment"
    }
   },
   "source": [
    "It is usual to build the lexicon in lexc and the rest with REs. However, we shall only cover lexc in this class."
   ]
  },
  {
   "cell_type": "markdown",
   "metadata": {
    "deletable": true,
    "editable": true,
    "slideshow": {
     "slide_type": "subslide"
    }
   },
   "source": [
    "#### XFST vs Python regular expressions\n",
    "\n",
    "| \"Does this\" | Python | XFST |\n",
    "|-------------|--------|------|\n",
    "|Verbatim       | `abc` | `[a b c]` or `{abc}`|\n",
    "|Matching $0-1$ | `(abc)?` | `{abc}^<2`    |\n",
    "|Kleene star    | `(abc)*` | `{abc}*`      |\n",
    "|Kleene plus    | `(abc)+` | `{abc}+`      |\n",
    "|Any character  | `.`      | `?`           |\n",
    "|Disjunction    | `a`&#124;`b`&#124;`c`  | `[A ` &#124; ` B ` &#124; ` C]` |\n",
    "|Containment    | `.*a.*`  | `$a`          |\n",
    "|Splice `x` into `ab`| `x*ax*bx*` | `[{ab} / x]` |\n",
    "|Conjunction    |          | `[A & B & C]` |\n",
    "|Complementation|          | `~A`          |"
   ]
  },
  {
   "cell_type": "markdown",
   "metadata": {
    "slideshow": {
     "slide_type": "fragment"
    }
   },
   "source": [
    "Also: regular expressions for transducers, which are obviously missing in Python."
   ]
  },
  {
   "cell_type": "markdown",
   "metadata": {
    "deletable": true,
    "editable": true,
    "slideshow": {
     "slide_type": "slide"
    }
   },
   "source": [
    "### Lexc primer"
   ]
  },
  {
   "cell_type": "markdown",
   "metadata": {
    "deletable": true,
    "editable": true,
    "slideshow": {
     "slide_type": "fragment"
    }
   },
   "source": [
    "The basic unit of lexc is the `LEXICON`\n",
    "- Each `LEXICON` corresponds to a morpheme class / grammatical function (verbs, nouns; plural, possessive, etc.)\n",
    "- Each entry in a `LEXICON` defines\n",
    "    - a morpheme\n",
    "    - its **continuation class**: the `LEXICON`(s) that generate the next morpheme"
   ]
  },
  {
   "cell_type": "markdown",
   "metadata": {
    "deletable": true,
    "editable": true,
    "slideshow": {
     "slide_type": "fragment"
    }
   },
   "source": [
    "A morpheme can be\n",
    "- a character string, e.g. _look_. These appear on both sides of the FST.\n",
    "- a transduction, that converts characters in the surface form to morphological tags, e.g. `[3Sg]:s`"
   ]
  },
  {
   "cell_type": "markdown",
   "metadata": {
    "deletable": true,
    "editable": true,
    "slideshow": {
     "slide_type": "subslide"
    }
   },
   "source": [
    "#### Animal sounds example\n",
    "```\n",
    "Multichar_Symbols MEOW MOO WOOF\n",
    "\n",
    "LEXICON Root\n",
    "cat   CatSound ;\n",
    "kitty CatSound ;\n",
    "cowMOO:cow   # ;  ! In-place transduction; # = end-of-word\n",
    "dog   DogSound ;\n",
    "puppy DogSound ;\n",
    "\n",
    "LEXICON CatSound\n",
    "MEOW:0       # ;  ! MEOW on the upper tape; nothing on the lower\n",
    "\n",
    "LEXICON DogSound\n",
    "WOOF:0       # ;  ! WOOF on the upper tape; nothing on the lower\n",
    "```"
   ]
  },
  {
   "cell_type": "markdown",
   "metadata": {
    "deletable": true,
    "editable": true,
    "slideshow": {
     "slide_type": "slide"
    }
   },
   "source": [
    "## 8.6 Related tasks\n",
    "<a id='8.related'></a>"
   ]
  },
  {
   "cell_type": "markdown",
   "metadata": {
    "slideshow": {
     "slide_type": "fragment"
    }
   },
   "source": [
    "A few examples for tasks related to morphological analysis, and ways of solving them with lexical FSTs."
   ]
  },
  {
   "cell_type": "markdown",
   "metadata": {
    "deletable": true,
    "editable": true,
    "slideshow": {
     "slide_type": "slide"
    }
   },
   "source": [
    "### Morphological disambiguation"
   ]
  },
  {
   "cell_type": "markdown",
   "metadata": {
    "deletable": true,
    "editable": true,
    "slideshow": {
     "slide_type": "fragment"
    }
   },
   "source": [
    "A morphological analyzer will assign multiple possible analyses to certain surface forms. **Morphological disambiguation** aims to select the correct analysis.\n",
    "- Disambiguation needs context (preceding words, the whole sentence, ...)\n",
    "- This is a _sequence classification_ task"
   ]
  },
  {
   "cell_type": "markdown",
   "metadata": {
    "deletable": true,
    "editable": true,
    "slideshow": {
     "slide_type": "slide"
    }
   },
   "source": [
    "### Spell checking"
   ]
  },
  {
   "cell_type": "markdown",
   "metadata": {
    "deletable": true,
    "editable": true,
    "slideshow": {
     "slide_type": "fragment"
    }
   },
   "source": [
    "A **spell checker** finds words that are not spelled correctly.\n",
    "- The _lower projection_ of a lexical transducer enumerates the existing word forms.\n",
    "- Hunspell for Hungarian was built from the same lexical resource as the morphological analyzer Hunmorph"
   ]
  },
  {
   "cell_type": "markdown",
   "metadata": {
    "deletable": true,
    "editable": true,
    "slideshow": {
     "slide_type": "slide"
    }
   },
   "source": [
    "### Lemmatization and stemming"
   ]
  },
  {
   "cell_type": "markdown",
   "metadata": {
    "deletable": true,
    "editable": true,
    "slideshow": {
     "slide_type": "fragment"
    }
   },
   "source": [
    "**Lemmatization** is the task of finding the _lemma_ (\"dictionary form\") of a word:\n",
    "- Same as morphological analysis without the morphological tags on the upper side\n",
    "    - Hungarian: _kutyáknak_ $\\rightarrow$ _kutya_ (for dogs $\\rightarrow$ dog)\n",
    "    - German: _gegessen_ $\\rightarrow$ _essen_ (ate $\\rightarrow$ eat)\n",
    "- With FSTs: $Morph \\circ DelTags$, where $DelTags$ is an FST that deletes tags"
   ]
  },
  {
   "cell_type": "markdown",
   "metadata": {
    "deletable": true,
    "editable": true,
    "slideshow": {
     "slide_type": "fragment"
    }
   },
   "source": [
    "**Stemming** is the process of reducing a word form to a \"stem\" using solely orthographic transformations.\n",
    "- Faster, as it does not require morphological analysis\n",
    "- Collapses inflected forms of the same word to a common string\n",
    "- Stems are not necessarily meaningful\n",
    "    - English ([Porter stemmer](https://tartarus.org/martin/PorterStemmer/)):\n",
    "        - _exactly_ $\\rightarrow$ _exactli_\n",
    "        - _origins_ $\\rightarrow$ _origi_ (lemma would be _origin_)"
   ]
  },
  {
   "cell_type": "markdown",
   "metadata": {
    "deletable": true,
    "editable": true,
    "slideshow": {
     "slide_type": "slide"
    }
   },
   "source": [
    "### Word and sentence segmentation"
   ]
  },
  {
   "cell_type": "markdown",
   "metadata": {
    "deletable": true,
    "editable": true,
    "slideshow": {
     "slide_type": "fragment"
    }
   },
   "source": [
    "**Word segmentation** (**tokenization**) is the task of dividing a string into its components tokens (words).\n",
    "- Sounds simple, but isn't\n",
    "    - English: _I saw it, did you too Mr. Jones?_ $\\rightarrow$ `['I', 'saw', 'it', ',', 'did', 'you', 'too', 'Mr.', 'Jones', '?']`\n",
    "    - Japanese: _進み続けてさえいれば、遅くとも関係ない。_ $\\rightarrow$ `['進み続けて', 'さえ', 'いれば', '、', '遅く', 'とも', '関係', 'ない', '。']`\n",
    "- Usually done with sequence tagging, but rule-based (FST) solutions also exist\n",
    "- A simple solution: make the (lower projection of the) analyzer circular: $Morph^+$"
   ]
  },
  {
   "cell_type": "markdown",
   "metadata": {
    "deletable": true,
    "editable": true,
    "slideshow": {
     "slide_type": "notes"
    }
   },
   "source": [
    "Japanese quote from https://www.linguajunkie.com/japanese/motivational-quotes-inspirational."
   ]
  },
  {
   "cell_type": "markdown",
   "metadata": {
    "deletable": true,
    "editable": true,
    "slideshow": {
     "slide_type": "fragment"
    }
   },
   "source": [
    "**Sentence segmentation**: same for sentences."
   ]
  }
 ],
 "metadata": {
  "celltoolbar": "Slideshow",
  "kernelspec": {
   "display_name": "Python 3",
   "language": "python",
   "name": "python3"
  },
  "language_info": {
   "codemirror_mode": {
    "name": "ipython",
    "version": 3
   },
   "file_extension": ".py",
   "mimetype": "text/x-python",
   "name": "python",
   "nbconvert_exporter": "python",
   "pygments_lexer": "ipython3",
   "version": "3.5.2"
  }
 },
 "nbformat": 4,
 "nbformat_minor": 2
}
