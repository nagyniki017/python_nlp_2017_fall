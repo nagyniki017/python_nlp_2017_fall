{
 "cells": [
  {
   "cell_type": "markdown",
   "metadata": {
    "deletable": true,
    "editable": true
   },
   "source": [
    "# Python for mathematics, science and engineering\n",
    "https://scipy.org/\n",
    "\n",
    "## Scipy\n",
    "(pronounced \"Sigh Pie\")\n",
    "\n",
    "Higher level algorithms on top of `numpy`\n",
    "\n",
    "* numerical integration\n",
    "* optimization\n",
    "* interpolation\n",
    "* Signal Processing\n",
    "* Linear Algebra\n",
    "  * with sparse matrices\n",
    "* statistics"
   ]
  },
  {
   "cell_type": "code",
   "execution_count": null,
   "metadata": {
    "collapsed": true,
    "deletable": true,
    "editable": true
   },
   "outputs": [],
   "source": [
    "import numpy, scipy\n",
    "%matplotlib inline\n",
    "import matplotlib.pyplot"
   ]
  },
  {
   "cell_type": "markdown",
   "metadata": {
    "collapsed": true,
    "deletable": true,
    "editable": true
   },
   "source": [
    "## Statistics\n",
    "\n",
    "The [`scipy.stats`](https://docs.scipy.org/doc/scipy/reference/stats.html) package \"_contains a large number of probability distributions as well as a growing library of statistical functions_\". Here we demonstrate how you can extract various statistics from a dataset."
   ]
  },
  {
   "cell_type": "markdown",
   "metadata": {
    "deletable": true,
    "editable": true
   },
   "source": [
    "One can import the [Iris dataset](https://en.wikipedia.org/wiki/Iris_flower_data_set) from [`scikit-learn`](http://scikit-learn.org/stable/index.html)\n",
    "\n",
    "* collected by Ronald Fisher (1936)\n",
    "* contains 50 flower samples\n",
    "* 4 parameters for each sample\n",
    "  * sepal length, sepal width, petal length, petal width\n",
    "* the samples are labeled according to species\n",
    "  * setosa, virginica, versicolor\n",
    "* the raw data is a $50\\times 4$ matrix\n",
    "  * the rows are labeled with $\\{0,1,2\\}$\n",
    "<img width=200 src=\"petal-sepal.jpg\"/>\n",
    "\n",
    "It is often used to test machine learning algorithms, to see if they can guess the species from the size of the perianth measurements."
   ]
  },
  {
   "cell_type": "code",
   "execution_count": null,
   "metadata": {
    "collapsed": false,
    "deletable": true,
    "editable": true
   },
   "outputs": [],
   "source": [
    "from sklearn import datasets\n",
    "iris = datasets.load_iris()\n",
    "print('Target names:', iris.target_names)\n",
    "print('Features:', iris.feature_names)\n",
    "print(iris.data)"
   ]
  },
  {
   "cell_type": "markdown",
   "metadata": {
    "deletable": true,
    "editable": true
   },
   "source": [
    "The samples can be divided into three classes, according to the labels."
   ]
  },
  {
   "cell_type": "code",
   "execution_count": null,
   "metadata": {
    "collapsed": false,
    "deletable": true,
    "editable": true
   },
   "outputs": [],
   "source": [
    "first = iris.data[iris.target == 0]\n",
    "second = iris.data[iris.target == 1]\n",
    "third = iris.data[iris.target == 2]\n",
    "print(len(first), len(second), len(third))"
   ]
  },
  {
   "cell_type": "markdown",
   "metadata": {
    "deletable": true,
    "editable": true
   },
   "source": [
    "### Tasks\n",
    "* Calculate the class-wise mean of the data points (three 4-dimensional vectors)\n",
    "\n",
    "Use `numpy.average`!\n",
    "\n",
    "* Calculate the geometric mean. You won't find a function for that in `numpy`; use `scipy.stats.gmean`.\n",
    "\n",
    "* Calculate the Pearson correlation between\n",
    "  * the sepal width and length\n",
    "  * the petal width and length\n",
    "  * all of the above but for each of the three classes separately\n",
    "\n",
    "Use `scipy.stats.pearsonr` for correlation!"
   ]
  },
  {
   "cell_type": "code",
   "execution_count": null,
   "metadata": {
    "collapsed": true,
    "deletable": true,
    "editable": true
   },
   "outputs": [],
   "source": []
  },
  {
   "cell_type": "markdown",
   "metadata": {},
   "source": [
    "## Linear algebra\n",
    "\n",
    "The [`scipy.linalg`](https://docs.scipy.org/doc/scipy/reference/linalg.html) module contains\n",
    "- linear (equation system) solvers\n",
    "- advanced matrix functions (pseudo inverse, etc.)\n",
    "- matrix decomposition functions (eigen-, singular value-, etc.)\n",
    "- special matrix generators\n",
    "- matrix equations solvers\n",
    "- etc.\n",
    "\n",
    "A few examples follow below."
   ]
  },
  {
   "cell_type": "markdown",
   "metadata": {
    "deletable": true,
    "editable": true
   },
   "source": [
    "### Linear equation systems\n",
    "\n",
    "Solves $A\\cdot x = b$, where $A\\in\\mathbb{R}^{n\\times n}, b\\in \\mathbb{R}^n$ for $x\\in\\mathbb{R}^n$."
   ]
  },
  {
   "cell_type": "code",
   "execution_count": null,
   "metadata": {
    "collapsed": false,
    "deletable": true,
    "editable": true
   },
   "outputs": [],
   "source": [
    "import scipy.linalg\n",
    "A = 0.5*(numpy.diag(numpy.ones(7), k=1) - numpy.diag(numpy.ones(7), k=-1))\n",
    "b = numpy.ones(len(A))\n",
    "\n",
    "print('[A|b]:\\n{}'.format(numpy.concatenate((A, b.reshape(-1,1)), axis=1)))\n",
    "\n",
    "x = scipy.linalg.solve(A, b)\n",
    "print('x:', x)\n",
    "\n",
    "# Let's test if the solution is correct\n",
    "assert numpy.allclose(A.dot(x), b)"
   ]
  },
  {
   "cell_type": "markdown",
   "metadata": {
    "deletable": true,
    "editable": true
   },
   "source": [
    "### Least square problem\n",
    "\n",
    "Finds optimal solution, for non-invertible coefficient matrix. Used when the equation system is _overdetermined_: there are more equations than variables:\n",
    "$A\\in\\mathbb{R}^{n\\times k}, b\\in \\mathbb{R}^n$ and $x\\in\\mathbb{R}^k, \\quad n > k$."
   ]
  },
  {
   "cell_type": "code",
   "execution_count": null,
   "metadata": {
    "collapsed": false,
    "deletable": true,
    "editable": true
   },
   "outputs": [],
   "source": [
    "A2 = (numpy.diag(numpy.ones(9), k=1) - numpy.diag(numpy.ones(10), k=0))[:-1, :].T\n",
    "print('A:\\n{}'.format(A2))\n",
    "b2 = numpy.linspace(-1, 1, num=len(A2))\n",
    "x2 = scipy.linalg.lstsq(A2, b2)[0]\n",
    "print('b:', b2)\n",
    "print('x:', x2)\n",
    "# matplotlib.pyplot.plot(range(1, len(b)+1), b)\n",
    "# matplotlib.pyplot.plot(range(0, len(x)), x)\n",
    "\n",
    "# In this case, the solution is exact.\n",
    "assert numpy.allclose(A2.dot(x2), b2)"
   ]
  },
  {
   "cell_type": "markdown",
   "metadata": {},
   "source": [
    "## Sparse matrices\n",
    "\n",
    "Many matrices in practice only have nonzero values in some of their cells; i.e. they are **sparse**. Storing large sparse matrices takes up a lot of memory space unneccesarily. The [`scipy.sparse`](https://docs.scipy.org/doc/scipy/reference/sparse.html) module implements memory-efficient sparse matrix classes."
   ]
  },
  {
   "cell_type": "markdown",
   "metadata": {},
   "source": [
    "However, memory-efficiency comes at a price. There are several types of sparse matrices, all with specific advantages and disadvantages. A few examples:\n",
    "\n",
    "* Optimized for storage:\n",
    "  * [`coo_matrix`](https://docs.scipy.org/doc/scipy/reference/generated/scipy.sparse.coo_matrix.html): coordinate-data tuples\n",
    "* Aimed for incrementally creating sparse matrices:\n",
    "  * [`lil_matrix`](https://docs.scipy.org/doc/scipy/reference/generated/scipy.sparse.lil_matrix.html): based on a linked list\n",
    "  * [`dok_matrix`](https://docs.scipy.org/doc/scipy/reference/generated/scipy.sparse.dok_matrix.html): based on a `dict` of `dict`s\n",
    "* Optimized for arithmetic operations\n",
    "  * [`csr_matrix`](https://docs.scipy.org/doc/scipy/reference/generated/scipy.sparse.csr_matrix.html): fast row operations\n",
    "  * [`csc_matrix`](https://docs.scipy.org/doc/scipy/reference/generated/scipy.sparse.csc_matrix.html): fast column operations\n",
    "  \n",
    "For further gotchas, see the package and matrix descriptions."
   ]
  },
  {
   "cell_type": "markdown",
   "metadata": {
    "deletable": true,
    "editable": true
   },
   "source": [
    "### Example\n",
    "\n",
    "A `csc_matrix` (or `csr_matrix`) is created from three lists: values, row indices and column indices.\n",
    "* below:\n",
    "  * matrix values: `[1, 2, 3, 4]`\n",
    "  * row indices: `[0, 1, 1, 2]`\n",
    "  * col indices: `[1, 0, 2, 1]`\n",
    "* meaning: \n",
    "  * $1$ is at position $(0,1)$\n",
    "  * $2$ is at position $(1,0)$\n",
    "  * $3$ is at position $(1,2)$\n",
    "  * $4$ is at position $(2,1)$\n",
    "  \n",
    "We cannot print the whole sparse matrix; use\n",
    "* `.todense()` to convert it into a dense matrix\n",
    "* `.toarray()` to convert it into an array\n",
    "\n",
    "first; although not recommended if the matrix is huge (why?)"
   ]
  },
  {
   "cell_type": "code",
   "execution_count": null,
   "metadata": {
    "collapsed": false,
    "deletable": true,
    "editable": true
   },
   "outputs": [],
   "source": [
    "import scipy.sparse\n",
    "import scipy.sparse.linalg\n",
    "csc = scipy.sparse.csc_matrix(([1, 2, 3, 4], ([0, 1, 1, 2], [1, 0, 2, 1])), shape=(3,3), dtype=float)\n",
    "print(\"csc:\\n{}\".format(csc))\n",
    "print(\"csc.toarray():\\n{}\".format(csc.toarray()))\n",
    "csc"
   ]
  },
  {
   "cell_type": "markdown",
   "metadata": {
    "deletable": true,
    "editable": true
   },
   "source": [
    "### Sparse linear algebra\n",
    "\n",
    "The `scipy.linalg` package has a sparse equivalent: [`scipy.sprase.linalg`](https://docs.scipy.org/doc/scipy/reference/sparse.linalg.html). Use the latter for sparse matrices."
   ]
  },
  {
   "cell_type": "markdown",
   "metadata": {},
   "source": [
    "### Task\n",
    "* Solve the linear equation system you did above with numpy.\n",
    "  * call the variables `As`, `bs`, `xs` to avoid accidentally overriding the originals\n",
    "  * use `scipy.sparse.diags` instead of `numpy.diag`\n",
    "  * note that the signatures of the sparse functions might be different!"
   ]
  },
  {
   "cell_type": "code",
   "execution_count": null,
   "metadata": {
    "collapsed": false
   },
   "outputs": [],
   "source": [
    "import scipy.sparse\n",
    "import scipy.sparse.linalg\n",
    "\n",
    "# Create As and bs\n",
    "print('As:\\n{}'.format(As.toarray()))\n",
    "print('bs:', bs)\n",
    "\n",
    "# Solve the equation system!\n",
    "print('xs:', xs)"
   ]
  },
  {
   "cell_type": "markdown",
   "metadata": {},
   "source": [
    "### Decomposition example\n",
    "\n",
    "Below we run sparse [singular value decomposition](https://en.wikipedia.org/wiki/Singular-value_decomposition) on `As`:\n",
    "* first, we obtain the component matrices $U, d, V^*$ (note that these won't be sparse)\n",
    "* then, we reconstruct the original matrix from them"
   ]
  },
  {
   "cell_type": "code",
   "execution_count": null,
   "metadata": {
    "collapsed": false,
    "deletable": true,
    "editable": true
   },
   "outputs": [],
   "source": [
    "def reconstruct_svd(M, k=None):\n",
    "    if k is None:\n",
    "        U, d, Vh = scipy.sparse.linalg.svds(M)\n",
    "    else:\n",
    "        U, d, Vh = scipy.sparse.linalg.svds(M, k)\n",
    "    M_rec = U.dot(numpy.diag(d).dot(Vh))\n",
    "    # Set small elements to zero\n",
    "    M_rec[numpy.abs(M_rec) < 1e-15] = 0\n",
    "    return M_rec\n",
    "\n",
    "print(\"Full sparse SVD:\\n{}\\n\".format(reconstruct_svd(A)))\n",
    "print(\"Sparse SVD, first 2 singular values:\\n{}\".format(reconstruct_svd(A, 2)))"
   ]
  },
  {
   "cell_type": "markdown",
   "metadata": {
    "deletable": true,
    "editable": true
   },
   "source": [
    "## Document-term matrix decomposition\n",
    "\n",
    "The [following file](http://sandbox.hlt.bme.hu/~gaebor/ea_anyag/python_nlp/movies.txt) contains (preprocessed) movie descriptions, from [CMU Movie Corpus](http://www.cs.cmu.edu/~ark/personas/).\n",
    "* One movie per line\n",
    "* `\"title\\tdescription\\n\"` format\n",
    "* description is space separated list of words, tokenized\n",
    "* Some of its UTF8  characters are broken, so we have to read it binary (byte array)\n",
    "\n",
    "Download the file and put it in the same folder, as your notebook!"
   ]
  },
  {
   "cell_type": "markdown",
   "metadata": {
    "deletable": true,
    "editable": true
   },
   "source": [
    "### Task 1.\n",
    "* Make a vocabulary of titles (`dict` keyed by titles)\n",
    "  * Each movie title should get a unique ID, from 0 to the number of movies (~39k)\n",
    "  * call this `movie_to_id`\n",
    "* Make a vocabulary of words (`dict` keyed by words)\n",
    "  * Each word, which occurs in any of the  descriptions, should get a unique ID, from 0 to the number of unique words (~182k)\n",
    "* Also make reverse vocabularies (movie id to movie title, word id to the word itself)\n",
    "  * for movies, call it `id_to_movie`"
   ]
  },
  {
   "cell_type": "code",
   "execution_count": null,
   "metadata": {
    "collapsed": true,
    "deletable": true,
    "editable": true,
    "scrolled": true
   },
   "outputs": [],
   "source": [
    "movie_descriptions = {}\n",
    "with open(\"movies.txt\", \"rb\") as f:\n",
    "    for i, line in enumerate(f):\n",
    "        title, description = line.strip().split(b'\\t')\n",
    "        movie_descriptions[title] = description.split()"
   ]
  },
  {
   "cell_type": "code",
   "execution_count": null,
   "metadata": {
    "collapsed": true,
    "deletable": true,
    "editable": true
   },
   "outputs": [],
   "source": [
    "print(len(movie_descriptions))\n",
    "print(b\" \".join(movie_descriptions[b\"The Matrix\"]))"
   ]
  },
  {
   "cell_type": "markdown",
   "metadata": {
    "deletable": true,
    "editable": true
   },
   "source": [
    "### Task 2.\n",
    "Make a sparse matrix defined in the following way:\n",
    "* $a_{i,j} = $ number of times the word with ID $j$ was mentioned in the movie with ID $i$\n",
    "* the rows of the matrix are movies\n",
    "* columns are words\n",
    "* use `float32` representation (`dtype`)"
   ]
  },
  {
   "cell_type": "code",
   "execution_count": null,
   "metadata": {
    "collapsed": true,
    "deletable": true,
    "editable": true
   },
   "outputs": [],
   "source": []
  },
  {
   "cell_type": "markdown",
   "metadata": {
    "deletable": true,
    "editable": true
   },
   "source": [
    "### Task 3.\n",
    "* Perform a sparse SVD with k=40 and store the left singular vectors as rows (`U`) and the right singular vectors as columns (`Vh`).\n",
    "* normalize the vectors (rows of `U` and columns of `Vh`) to unit length.\n",
    "* $U\\in\\mathbb{R}^{\\text{~39k}\\times 40}$\n",
    "* $Vh\\in\\mathbb{R}^{40\\times \\text{~182k}}$"
   ]
  },
  {
   "cell_type": "code",
   "execution_count": null,
   "metadata": {
    "collapsed": true,
    "deletable": true,
    "editable": true
   },
   "outputs": [],
   "source": []
  },
  {
   "cell_type": "markdown",
   "metadata": {
    "deletable": true,
    "editable": true
   },
   "source": [
    "### Task 4.\n",
    "Write a function, which searches the closest vectors to a given vector.\n",
    "* Use the global variable `U`\n",
    "* the input is a vector $v$ and a number $k\\in\\mathbb{N}$.\n",
    "* return the row indices of the $k$ closest vector to $v$ in $U$!\n",
    "\n",
    "Try to use vectorization and [`numpy.argpartition`](https://docs.scipy.org/doc/numpy/reference/generated/numpy.argpartition.html)."
   ]
  },
  {
   "cell_type": "code",
   "execution_count": null,
   "metadata": {
    "collapsed": true,
    "deletable": true,
    "editable": true
   },
   "outputs": [],
   "source": [
    "def closests(v, k=1):\n",
    "    return list(range(k))"
   ]
  },
  {
   "cell_type": "code",
   "execution_count": null,
   "metadata": {
    "collapsed": true,
    "deletable": true,
    "editable": true
   },
   "outputs": [],
   "source": [
    "closests(numpy.ones(len(Vh)), 3)"
   ]
  },
  {
   "cell_type": "markdown",
   "metadata": {
    "deletable": true,
    "editable": true
   },
   "source": [
    "Now you can search similar movies!"
   ]
  },
  {
   "cell_type": "code",
   "execution_count": null,
   "metadata": {
    "collapsed": true,
    "deletable": true,
    "editable": true
   },
   "outputs": [],
   "source": [
    "print([id_to_movie[i] for i in closests(U[movie_to_id[b\"Monsters, Inc.\"]], 5)])\n",
    "print([id_to_movie[i] for i in closests(U[movie_to_id[b\"Popeye\"]], 5)])"
   ]
  },
  {
   "cell_type": "markdown",
   "metadata": {
    "deletable": true,
    "editable": true
   },
   "source": [
    "Or even mixture of movies by adding _\"movie vectors\"_!"
   ]
  },
  {
   "cell_type": "code",
   "execution_count": null,
   "metadata": {
    "collapsed": true,
    "deletable": true,
    "editable": true
   },
   "outputs": [],
   "source": [
    "[id_to_movie[i] for i in closests(U[movie_to_id[b\"Popeye\"]] + U[movie_to_id[b\"Monsters, Inc.\"]], 10)]"
   ]
  },
  {
   "cell_type": "code",
   "execution_count": null,
   "metadata": {
    "collapsed": true,
    "deletable": true,
    "editable": true
   },
   "outputs": [],
   "source": []
  }
 ],
 "metadata": {
  "kernelspec": {
   "display_name": "Python 3",
   "language": "python",
   "name": "python3"
  },
  "language_info": {
   "codemirror_mode": {
    "name": "ipython",
    "version": 3
   },
   "file_extension": ".py",
   "mimetype": "text/x-python",
   "name": "python",
   "nbconvert_exporter": "python",
   "pygments_lexer": "ipython3",
   "version": "3.5.2"
  }
 },
 "nbformat": 4,
 "nbformat_minor": 2
}
