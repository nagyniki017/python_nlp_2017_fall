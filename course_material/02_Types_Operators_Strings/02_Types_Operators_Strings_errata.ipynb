{
 "cells": [
  {
   "cell_type": "markdown",
   "metadata": {
    "deletable": true,
    "editable": true,
    "slideshow": {
     "slide_type": "slide"
    }
   },
   "source": [
    "# Introduction to Python and Natural Language Technologies\n",
    "\n",
    "## Type system and built-in types\n",
    "\n",
    "## Errata and Q&A\n",
    "\n",
    "19 September 2017"
   ]
  },
  {
   "cell_type": "markdown",
   "metadata": {
    "deletable": true,
    "editable": true,
    "slideshow": {
     "slide_type": "slide"
    }
   },
   "source": [
    "# Errata\n",
    "\n",
    "In this section, we shall fix some omissions from the lecture slides and try to clear up any confusion about certain concepts that we saw (or induced) during the lecture and the lab."
   ]
  },
  {
   "cell_type": "markdown",
   "metadata": {
    "deletable": true,
    "editable": true,
    "slideshow": {
     "slide_type": "slide"
    }
   },
   "source": [
    "## 1. In-place sorting\n",
    "\n",
    "In Python, the `sorted()` function can be used on any **sequence** to return a sorted **list**:"
   ]
  },
  {
   "cell_type": "code",
   "execution_count": 1,
   "metadata": {
    "collapsed": false,
    "deletable": true,
    "editable": true,
    "slideshow": {
     "slide_type": "fragment"
    }
   },
   "outputs": [
    {
     "name": "stdout",
     "output_type": "stream",
     "text": [
      "['a', 'b', 'c'] True\n",
      "True\n"
     ]
    }
   ],
   "source": [
    "l1 = sorted(['b', 'c', 'a'])  # a list\n",
    "l2 = sorted(('b', 'c', 'a'))  # a tuple\n",
    "l3 = sorted('bca')  # a string\n",
    "\n",
    "print(l1, l1 == l2 == l3)\n",
    "print(type(l1) == type(l2) == type(l3) == list)"
   ]
  },
  {
   "cell_type": "markdown",
   "metadata": {
    "deletable": true,
    "editable": true,
    "slideshow": {
     "slide_type": "fragment"
    }
   },
   "source": [
    "`sorted()` always returns a new object."
   ]
  },
  {
   "cell_type": "code",
   "execution_count": 2,
   "metadata": {
    "collapsed": false,
    "deletable": true,
    "editable": true,
    "slideshow": {
     "slide_type": "fragment"
    }
   },
   "outputs": [
    {
     "name": "stdout",
     "output_type": "stream",
     "text": [
      "This should be False: False\n"
     ]
    }
   ],
   "source": [
    "l = [1, 2, 3]\n",
    "s = sorted(l)\n",
    "print('This should be False:', id(l) == id(s))"
   ]
  },
  {
   "cell_type": "markdown",
   "metadata": {
    "deletable": true,
    "editable": true,
    "slideshow": {
     "slide_type": "slide"
    }
   },
   "source": [
    "It is also possible to sort lists in place with the `sort()` _method_ of `list`s. It accepts the `key` and `reverse` parameters."
   ]
  },
  {
   "cell_type": "code",
   "execution_count": 3,
   "metadata": {
    "collapsed": false,
    "deletable": true,
    "editable": true,
    "slideshow": {
     "slide_type": "fragment"
    }
   },
   "outputs": [
    {
     "name": "stdout",
     "output_type": "stream",
     "text": [
      "[2, 3, 1] [1, 2, 3] False\n",
      "[1, 2, 3] [1, 2, 3] True\n"
     ]
    }
   ],
   "source": [
    "l = [2, 3, 1]\n",
    "s = sorted(l)\n",
    "print(l, s, l == s)  # l is unsorted, s is a new list\n",
    "l.sort()\n",
    "print(l, s, l == s)  # Now l is sorted"
   ]
  },
  {
   "cell_type": "markdown",
   "metadata": {
    "deletable": true,
    "editable": true,
    "slideshow": {
     "slide_type": "slide"
    }
   },
   "source": [
    "## 2. Test for equality\n",
    "\n",
    "It is worth noting that all built-in Python types support equality testing with the operator `==`. The comparison is always **by value**. To test whether the two objects are the same, use `id(o1) == id(o2)`."
   ]
  },
  {
   "cell_type": "code",
   "execution_count": 4,
   "metadata": {
    "collapsed": false,
    "deletable": true,
    "editable": true,
    "slideshow": {
     "slide_type": "fragment"
    }
   },
   "outputs": [
    {
     "name": "stdout",
     "output_type": "stream",
     "text": [
      "True False\n"
     ]
    }
   ],
   "source": [
    "l1 = [1, 2, 3]\n",
    "l2 = [1, 2, 3]\n",
    "print(l1 == l2, id(l1) == id(l2))  # True, False"
   ]
  },
  {
   "cell_type": "markdown",
   "metadata": {
    "deletable": true,
    "editable": true,
    "slideshow": {
     "slide_type": "fragment"
    }
   },
   "source": [
    "`str`, `tuple` and `list` also support `<`, `<=`, etc. `set` does too, but the semantics are different ($\\subset$, $\\subseteq$, ...)"
   ]
  },
  {
   "cell_type": "markdown",
   "metadata": {
    "deletable": true,
    "editable": true,
    "slideshow": {
     "slide_type": "slide"
    }
   },
   "source": [
    "## 3. Parameters of `sorted()`\n",
    "\n",
    "There was a bit of confusion on the part of your lecturers about the `cmp` key for `sorted()`. To clear it up: there is **no `cmp` parameter in Python 3**. It was available in Python 2, and it accepted a three-way comparison function, similar to how sorting is done in C, Java, Ruby, etc.\n",
    "\n",
    "In contrast, Python 3 sorts by calling `<`, just as C++ does.\n",
    "\n",
    "More on sorting (advanced): https://docs.python.org/3/howto/sorting.html#sortinghowto"
   ]
  },
  {
   "cell_type": "markdown",
   "metadata": {
    "deletable": true,
    "editable": true,
    "slideshow": {
     "slide_type": "slide"
    }
   },
   "source": [
    "# Q&A\n",
    "\n",
    "Here we address some of the more interesting questions that you asked during the classes."
   ]
  },
  {
   "cell_type": "markdown",
   "metadata": {
    "deletable": true,
    "editable": true,
    "slideshow": {
     "slide_type": "slide"
    }
   },
   "source": [
    "## 1. Immutability vs constness\n",
    "\n",
    "The questions was whether immutability in Python is similar to C/C++'s keyword `const`. Superficially, these concepts seem similar, as both mean that the value of an object cannot be changed. However, the answer is \"mostly not\"."
   ]
  },
  {
   "cell_type": "markdown",
   "metadata": {
    "deletable": true,
    "editable": true,
    "slideshow": {
     "slide_type": "fragment"
    }
   },
   "source": [
    "In a nutshell, constness is the property of the **reference** (or pointer); immutability is the property of the **object** itself. As there is no `const` in Python, the examples below are from C++. If you are only interested in Python, just skip this question."
   ]
  },
  {
   "cell_type": "markdown",
   "metadata": {
    "deletable": true,
    "editable": true,
    "slideshow": {
     "slide_type": "fragment"
    }
   },
   "source": [
    "In C++, `const` is used in two context:\n",
    "\n",
    "1. Regulate write access to mutable objects\n",
    "1. Define constants"
   ]
  },
  {
   "cell_type": "markdown",
   "metadata": {
    "deletable": true,
    "editable": true,
    "slideshow": {
     "slide_type": "slide"
    }
   },
   "source": [
    "### 1. Write access to mutable objects\n",
    "\n",
    "```C++\n",
    "void change_value_m(MutableObject& mref) {\n",
    "  mref.set(2);  // This modifies the object's value\n",
    "}\n",
    "\n",
    "void change_value_c(MutableObject const& cref) {\n",
    "  cref.set(3);  // **Compilation error**\n",
    "}\n",
    "\n",
    "int main(int argc, char* argv[]) {\n",
    "  MutableObject mo(1);\n",
    "  change_value_m(mo);\n",
    "  change_value_c(mo);\n",
    "  std::cout << mo.get() << std::endl;\n",
    "}\n",
    "```"
   ]
  },
  {
   "cell_type": "markdown",
   "metadata": {
    "deletable": true,
    "editable": true,
    "slideshow": {
     "slide_type": "fragment"
    }
   },
   "source": [
    "However, the `const`ness of a reference can be cast away:\n",
    "```C++\n",
    "void change_value_c2(MutableObject const& cref) {\n",
    "  MutableObject& mref = const_cast<MutableObject&>(cref);\n",
    "  mref.set(3);  // This works\n",
    "}\n",
    "```"
   ]
  },
  {
   "cell_type": "markdown",
   "metadata": {
    "deletable": true,
    "editable": true,
    "slideshow": {
     "slide_type": "slide"
    }
   },
   "source": [
    "On the other hand, if an object is immutable, it does not even have a `set()` or `operator=()` method:\n",
    "```C++\n",
    "class ImmutableObject {\n",
    "  int value_;  // The value is hidden inside the object\n",
    "  \n",
    " public:\n",
    "  ImmutableObject(int value) : value_(value) {}\n",
    "  int get() { return value_; }\n",
    "};\n",
    "```"
   ]
  },
  {
   "cell_type": "markdown",
   "metadata": {
    "deletable": true,
    "editable": true,
    "slideshow": {
     "slide_type": "fragment"
    }
   },
   "source": [
    "This is also how the Python `tuple` is made immutable. \"Item assignment\" in the error message below refers to the (lack of the) `__setitem__` function (see next lecture)."
   ]
  },
  {
   "cell_type": "code",
   "execution_count": 5,
   "metadata": {
    "collapsed": false,
    "deletable": true,
    "editable": true,
    "slideshow": {
     "slide_type": "fragment"
    }
   },
   "outputs": [
    {
     "ename": "TypeError",
     "evalue": "'tuple' object does not support item assignment",
     "output_type": "error",
     "traceback": [
      "\u001b[0;31m---------------------------------------------------------------------------\u001b[0m",
      "\u001b[0;31mTypeError\u001b[0m                                 Traceback (most recent call last)",
      "\u001b[0;32m<ipython-input-5-3fe8b370d714>\u001b[0m in \u001b[0;36m<module>\u001b[0;34m()\u001b[0m\n\u001b[0;32m----> 1\u001b[0;31m \u001b[0;34m(\u001b[0m\u001b[0;36m1\u001b[0m\u001b[0;34m,\u001b[0m \u001b[0;36m2\u001b[0m\u001b[0;34m,\u001b[0m \u001b[0;36m3\u001b[0m\u001b[0;34m)\u001b[0m\u001b[0;34m[\u001b[0m\u001b[0;36m2\u001b[0m\u001b[0;34m]\u001b[0m \u001b[0;34m=\u001b[0m \u001b[0;36m4\u001b[0m\u001b[0;34m\u001b[0m\u001b[0m\n\u001b[0m",
      "\u001b[0;31mTypeError\u001b[0m: 'tuple' object does not support item assignment"
     ]
    }
   ],
   "source": [
    "(1, 2, 3)[2] = 4"
   ]
  },
  {
   "cell_type": "markdown",
   "metadata": {
    "deletable": true,
    "editable": true,
    "slideshow": {
     "slide_type": "slide"
    }
   },
   "source": [
    "### 2. Constants\n",
    "\n",
    "In C++, the `const` keyword can also be used to define constants. Of the two use cases, this is the one that could be confused with immutability more.\n",
    "```C++\n",
    "int main(int argc, char* argv[]) {\n",
    "  const char* hello = \"Hello World!\";\n",
    "}\n",
    "```"
   ]
  },
  {
   "cell_type": "markdown",
   "metadata": {
    "deletable": true,
    "editable": true,
    "slideshow": {
     "slide_type": "fragment"
    }
   },
   "source": [
    "However, this is still just a const reference, which can be cast to a non-const one with `const_cast`. The difference is that these objects are created on the static storage, and the compiler can optimize this by e.g. marking them read-only. Nevertheless, the standard does not specify how these constants are stored, so the following code may or may not work, or may even crash your program.\n",
    "\n",
    "```C++\n",
    "int main(int argc, char* argv[]) {\n",
    "  const char* hello = \"Hello World!\";\n",
    "  const_cast<char*>(hello)[0] = 'B';  // Undefined\n",
    "}\n",
    "```"
   ]
  },
  {
   "cell_type": "markdown",
   "metadata": {
    "deletable": true,
    "editable": true,
    "slideshow": {
     "slide_type": "fragment"
    }
   },
   "source": [
    "In other words, it is not so much \"cannot modify\" as \"don't modify, or you might break something horribly\". :)"
   ]
  }
 ],
 "metadata": {
  "celltoolbar": "Slideshow",
  "kernelspec": {
   "display_name": "Python 3",
   "language": "python",
   "name": "python3"
  },
  "language_info": {
   "codemirror_mode": {
    "name": "ipython",
    "version": 3
   },
   "file_extension": ".py",
   "mimetype": "text/x-python",
   "name": "python",
   "nbconvert_exporter": "python",
   "pygments_lexer": "ipython3",
   "version": "3.5.2"
  }
 },
 "nbformat": 4,
 "nbformat_minor": 2
}
